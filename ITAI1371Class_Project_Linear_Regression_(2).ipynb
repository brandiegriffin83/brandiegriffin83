{
  "cells": [
    {
      "cell_type": "markdown",
      "metadata": {
        "id": "view-in-github",
        "colab_type": "text"
      },
      "source": [
        "<a href=\"https://colab.research.google.com/github/brandiegriffin83/brandiegriffin83/blob/main/ITAI1371Class_Project_Linear_Regression_(2).ipynb\" target=\"_parent\"><img src=\"https://colab.research.google.com/assets/colab-badge.svg\" alt=\"Open In Colab\"/></a>"
      ]
    },
    {
      "cell_type": "code",
      "execution_count": 2,
      "metadata": {
        "id": "knt8AAywBoxG",
        "tags": []
      },
      "outputs": [],
      "source": [
        "import warnings\n",
        "warnings.filterwarnings('ignore')\n",
        "\n",
        "import pandas as pd\n",
        "import numpy as np\n",
        "import matplotlib.pyplot as plt\n",
        "\n",
        "from sklearn import model_selection\n",
        "from sklearn.model_selection import train_test_split, KFold, cross_val_score\n",
        "from sklearn import datasets\n",
        "from sklearn.metrics import *"
      ]
    },
    {
      "cell_type": "markdown",
      "metadata": {
        "id": "MtJWywyoBLu0"
      },
      "source": [
        "<a name=\"p1\"></a>\n",
        "\n",
        "---\n",
        "## **Part 1: Exploratory Data Analysis**\n",
        "---"
      ]
    },
    {
      "cell_type": "markdown",
      "metadata": {
        "id": "h_NRIrDIbSvY"
      },
      "source": [
        "#### **Problem #1.1**\n",
        "This dataset contains historical statistics for NBA (National Basketball Association) players, sourced from Basketball-Reference.com. The data includes a wide range of metrics from basic statistics like games played and minutes played to more advanced statistics like player efficiency ratings. While the dataset is rich and detailed, we are only focusing on a subset of the available columns to introduce you to the basics of data exploration and manipulation.\n",
        "\n",
        "<br>\n",
        "\n",
        "**Even if you're not familiar with basketball, understanding the data columns should still be relatively straightforward. Here's what each column we're using means:**\n",
        "\n",
        "- `player_id`: A unique ID assigned by Basketball-Reference.com to each player.\n",
        "\n",
        "- `name_common`: The name of the basketball player.\n",
        "\n",
        "- `year_id`: This refers to the NBA season year. For example, the 2019-2020 NBA season would be represented as \"2000\".\n",
        "\n",
        "- `age`: The age of the player as of February 1 of that season.\n",
        "\n",
        "- `team_id`: The abbreviation for the team that the player played for during that season. Each NBA team has a unique abbreviation, like 'LAL' for the Los Angeles Lakers.\n",
        "\n",
        "- `G`: Games Played - The number of games the player participated in during that season.\n",
        "\n",
        "- `Min`: Minutes Played - The total number of minutes the player was on the court during the season.\n",
        "\n",
        "- `MPG`: Minutes Per Game - This is the average number of minutes the player was on the court per game during the season. It's calculated as Min divided by G.\n",
        "\n",
        "- `FT%`: Free Throw Percentage - This is the percentage of free throws the player made successfully. A free throw is an opportunity given to a player to score one point, unopposed, from a position 15 feet from the basket. It's calculated as Free Throws Made divided by Free Throws Attempted.\n",
        "\n",
        "<br>\n",
        "\n",
        "**Run the code cell below to load the data.**"
      ]
    },
    {
      "cell_type": "code",
      "execution_count": 3,
      "metadata": {
        "colab": {
          "base_uri": "https://localhost:8080/",
          "height": 458
        },
        "id": "wb3_Qc6cYKlg",
        "outputId": "4900d41d-be0f-4f6d-ab2e-41607a73ac1a",
        "tags": []
      },
      "outputs": [
        {
          "output_type": "execute_result",
          "data": {
            "text/plain": [
              "       player_id        name_common  year_id  age team_id   G   Min   MPG  \\\n",
              "808    youngtr01         Trae Young     2019   20     ATL  81  2503  30.9   \n",
              "809    huertke01      Kevin Huerter     2019   20     ATL  75  2048  27.3   \n",
              "810    bembrde01    DeAndre' Bembry     2019   24     ATL  82  1931  23.5   \n",
              "811    collijo01       John Collins     2019   21     ATL  61  1829  30.0   \n",
              "812    bazemke01      Kent Bazemore     2019   29     ATL  67  1643  24.5   \n",
              "...          ...                ...      ...  ...     ...  ..   ...   ...   \n",
              "28163  weissbo01          Bob Weiss     1977   34     WSB  62   768  12.4   \n",
              "28164  riordmi01       Mike Riordan     1977   31     WSB  49   289   5.9   \n",
              "28165  weathni01  Nick Weatherspoon     1977   26     WSB  11   152  13.8   \n",
              "28166   pacejo01           Joe Pace     1977   23     WSB  30   119   4.0   \n",
              "28167  jonesji01        Jimmy Jones     1977   32     WSB   3    33  11.0   \n",
              "\n",
              "        FT%  \n",
              "808    82.9  \n",
              "809    73.2  \n",
              "810    64.0  \n",
              "811    76.3  \n",
              "812    72.6  \n",
              "...     ...  \n",
              "28163  78.4  \n",
              "28164  73.3  \n",
              "28165  62.5  \n",
              "28166  55.2  \n",
              "28167  50.0  \n",
              "\n",
              "[19489 rows x 9 columns]"
            ],
            "text/html": [
              "\n",
              "  <div id=\"df-b1844998-9a42-4d16-9efc-dd10da612d82\" class=\"colab-df-container\">\n",
              "    <div>\n",
              "<style scoped>\n",
              "    .dataframe tbody tr th:only-of-type {\n",
              "        vertical-align: middle;\n",
              "    }\n",
              "\n",
              "    .dataframe tbody tr th {\n",
              "        vertical-align: top;\n",
              "    }\n",
              "\n",
              "    .dataframe thead th {\n",
              "        text-align: right;\n",
              "    }\n",
              "</style>\n",
              "<table border=\"1\" class=\"dataframe\">\n",
              "  <thead>\n",
              "    <tr style=\"text-align: right;\">\n",
              "      <th></th>\n",
              "      <th>player_id</th>\n",
              "      <th>name_common</th>\n",
              "      <th>year_id</th>\n",
              "      <th>age</th>\n",
              "      <th>team_id</th>\n",
              "      <th>G</th>\n",
              "      <th>Min</th>\n",
              "      <th>MPG</th>\n",
              "      <th>FT%</th>\n",
              "    </tr>\n",
              "  </thead>\n",
              "  <tbody>\n",
              "    <tr>\n",
              "      <th>808</th>\n",
              "      <td>youngtr01</td>\n",
              "      <td>Trae Young</td>\n",
              "      <td>2019</td>\n",
              "      <td>20</td>\n",
              "      <td>ATL</td>\n",
              "      <td>81</td>\n",
              "      <td>2503</td>\n",
              "      <td>30.9</td>\n",
              "      <td>82.9</td>\n",
              "    </tr>\n",
              "    <tr>\n",
              "      <th>809</th>\n",
              "      <td>huertke01</td>\n",
              "      <td>Kevin Huerter</td>\n",
              "      <td>2019</td>\n",
              "      <td>20</td>\n",
              "      <td>ATL</td>\n",
              "      <td>75</td>\n",
              "      <td>2048</td>\n",
              "      <td>27.3</td>\n",
              "      <td>73.2</td>\n",
              "    </tr>\n",
              "    <tr>\n",
              "      <th>810</th>\n",
              "      <td>bembrde01</td>\n",
              "      <td>DeAndre' Bembry</td>\n",
              "      <td>2019</td>\n",
              "      <td>24</td>\n",
              "      <td>ATL</td>\n",
              "      <td>82</td>\n",
              "      <td>1931</td>\n",
              "      <td>23.5</td>\n",
              "      <td>64.0</td>\n",
              "    </tr>\n",
              "    <tr>\n",
              "      <th>811</th>\n",
              "      <td>collijo01</td>\n",
              "      <td>John Collins</td>\n",
              "      <td>2019</td>\n",
              "      <td>21</td>\n",
              "      <td>ATL</td>\n",
              "      <td>61</td>\n",
              "      <td>1829</td>\n",
              "      <td>30.0</td>\n",
              "      <td>76.3</td>\n",
              "    </tr>\n",
              "    <tr>\n",
              "      <th>812</th>\n",
              "      <td>bazemke01</td>\n",
              "      <td>Kent Bazemore</td>\n",
              "      <td>2019</td>\n",
              "      <td>29</td>\n",
              "      <td>ATL</td>\n",
              "      <td>67</td>\n",
              "      <td>1643</td>\n",
              "      <td>24.5</td>\n",
              "      <td>72.6</td>\n",
              "    </tr>\n",
              "    <tr>\n",
              "      <th>...</th>\n",
              "      <td>...</td>\n",
              "      <td>...</td>\n",
              "      <td>...</td>\n",
              "      <td>...</td>\n",
              "      <td>...</td>\n",
              "      <td>...</td>\n",
              "      <td>...</td>\n",
              "      <td>...</td>\n",
              "      <td>...</td>\n",
              "    </tr>\n",
              "    <tr>\n",
              "      <th>28163</th>\n",
              "      <td>weissbo01</td>\n",
              "      <td>Bob Weiss</td>\n",
              "      <td>1977</td>\n",
              "      <td>34</td>\n",
              "      <td>WSB</td>\n",
              "      <td>62</td>\n",
              "      <td>768</td>\n",
              "      <td>12.4</td>\n",
              "      <td>78.4</td>\n",
              "    </tr>\n",
              "    <tr>\n",
              "      <th>28164</th>\n",
              "      <td>riordmi01</td>\n",
              "      <td>Mike Riordan</td>\n",
              "      <td>1977</td>\n",
              "      <td>31</td>\n",
              "      <td>WSB</td>\n",
              "      <td>49</td>\n",
              "      <td>289</td>\n",
              "      <td>5.9</td>\n",
              "      <td>73.3</td>\n",
              "    </tr>\n",
              "    <tr>\n",
              "      <th>28165</th>\n",
              "      <td>weathni01</td>\n",
              "      <td>Nick Weatherspoon</td>\n",
              "      <td>1977</td>\n",
              "      <td>26</td>\n",
              "      <td>WSB</td>\n",
              "      <td>11</td>\n",
              "      <td>152</td>\n",
              "      <td>13.8</td>\n",
              "      <td>62.5</td>\n",
              "    </tr>\n",
              "    <tr>\n",
              "      <th>28166</th>\n",
              "      <td>pacejo01</td>\n",
              "      <td>Joe Pace</td>\n",
              "      <td>1977</td>\n",
              "      <td>23</td>\n",
              "      <td>WSB</td>\n",
              "      <td>30</td>\n",
              "      <td>119</td>\n",
              "      <td>4.0</td>\n",
              "      <td>55.2</td>\n",
              "    </tr>\n",
              "    <tr>\n",
              "      <th>28167</th>\n",
              "      <td>jonesji01</td>\n",
              "      <td>Jimmy Jones</td>\n",
              "      <td>1977</td>\n",
              "      <td>32</td>\n",
              "      <td>WSB</td>\n",
              "      <td>3</td>\n",
              "      <td>33</td>\n",
              "      <td>11.0</td>\n",
              "      <td>50.0</td>\n",
              "    </tr>\n",
              "  </tbody>\n",
              "</table>\n",
              "<p>19489 rows × 9 columns</p>\n",
              "</div>\n",
              "    <div class=\"colab-df-buttons\">\n",
              "\n",
              "  <div class=\"colab-df-container\">\n",
              "    <button class=\"colab-df-convert\" onclick=\"convertToInteractive('df-b1844998-9a42-4d16-9efc-dd10da612d82')\"\n",
              "            title=\"Convert this dataframe to an interactive table.\"\n",
              "            style=\"display:none;\">\n",
              "\n",
              "  <svg xmlns=\"http://www.w3.org/2000/svg\" height=\"24px\" viewBox=\"0 -960 960 960\">\n",
              "    <path d=\"M120-120v-720h720v720H120Zm60-500h600v-160H180v160Zm220 220h160v-160H400v160Zm0 220h160v-160H400v160ZM180-400h160v-160H180v160Zm440 0h160v-160H620v160ZM180-180h160v-160H180v160Zm440 0h160v-160H620v160Z\"/>\n",
              "  </svg>\n",
              "    </button>\n",
              "\n",
              "  <style>\n",
              "    .colab-df-container {\n",
              "      display:flex;\n",
              "      gap: 12px;\n",
              "    }\n",
              "\n",
              "    .colab-df-convert {\n",
              "      background-color: #E8F0FE;\n",
              "      border: none;\n",
              "      border-radius: 50%;\n",
              "      cursor: pointer;\n",
              "      display: none;\n",
              "      fill: #1967D2;\n",
              "      height: 32px;\n",
              "      padding: 0 0 0 0;\n",
              "      width: 32px;\n",
              "    }\n",
              "\n",
              "    .colab-df-convert:hover {\n",
              "      background-color: #E2EBFA;\n",
              "      box-shadow: 0px 1px 2px rgba(60, 64, 67, 0.3), 0px 1px 3px 1px rgba(60, 64, 67, 0.15);\n",
              "      fill: #174EA6;\n",
              "    }\n",
              "\n",
              "    .colab-df-buttons div {\n",
              "      margin-bottom: 4px;\n",
              "    }\n",
              "\n",
              "    [theme=dark] .colab-df-convert {\n",
              "      background-color: #3B4455;\n",
              "      fill: #D2E3FC;\n",
              "    }\n",
              "\n",
              "    [theme=dark] .colab-df-convert:hover {\n",
              "      background-color: #434B5C;\n",
              "      box-shadow: 0px 1px 3px 1px rgba(0, 0, 0, 0.15);\n",
              "      filter: drop-shadow(0px 1px 2px rgba(0, 0, 0, 0.3));\n",
              "      fill: #FFFFFF;\n",
              "    }\n",
              "  </style>\n",
              "\n",
              "    <script>\n",
              "      const buttonEl =\n",
              "        document.querySelector('#df-b1844998-9a42-4d16-9efc-dd10da612d82 button.colab-df-convert');\n",
              "      buttonEl.style.display =\n",
              "        google.colab.kernel.accessAllowed ? 'block' : 'none';\n",
              "\n",
              "      async function convertToInteractive(key) {\n",
              "        const element = document.querySelector('#df-b1844998-9a42-4d16-9efc-dd10da612d82');\n",
              "        const dataTable =\n",
              "          await google.colab.kernel.invokeFunction('convertToInteractive',\n",
              "                                                    [key], {});\n",
              "        if (!dataTable) return;\n",
              "\n",
              "        const docLinkHtml = 'Like what you see? Visit the ' +\n",
              "          '<a target=\"_blank\" href=https://colab.research.google.com/notebooks/data_table.ipynb>data table notebook</a>'\n",
              "          + ' to learn more about interactive tables.';\n",
              "        element.innerHTML = '';\n",
              "        dataTable['output_type'] = 'display_data';\n",
              "        await google.colab.output.renderOutput(dataTable, element);\n",
              "        const docLink = document.createElement('div');\n",
              "        docLink.innerHTML = docLinkHtml;\n",
              "        element.appendChild(docLink);\n",
              "      }\n",
              "    </script>\n",
              "  </div>\n",
              "\n",
              "\n",
              "<div id=\"df-4717e477-d290-4b5e-9395-bc8a628c35df\">\n",
              "  <button class=\"colab-df-quickchart\" onclick=\"quickchart('df-4717e477-d290-4b5e-9395-bc8a628c35df')\"\n",
              "            title=\"Suggest charts\"\n",
              "            style=\"display:none;\">\n",
              "\n",
              "<svg xmlns=\"http://www.w3.org/2000/svg\" height=\"24px\"viewBox=\"0 0 24 24\"\n",
              "     width=\"24px\">\n",
              "    <g>\n",
              "        <path d=\"M19 3H5c-1.1 0-2 .9-2 2v14c0 1.1.9 2 2 2h14c1.1 0 2-.9 2-2V5c0-1.1-.9-2-2-2zM9 17H7v-7h2v7zm4 0h-2V7h2v10zm4 0h-2v-4h2v4z\"/>\n",
              "    </g>\n",
              "</svg>\n",
              "  </button>\n",
              "\n",
              "<style>\n",
              "  .colab-df-quickchart {\n",
              "      --bg-color: #E8F0FE;\n",
              "      --fill-color: #1967D2;\n",
              "      --hover-bg-color: #E2EBFA;\n",
              "      --hover-fill-color: #174EA6;\n",
              "      --disabled-fill-color: #AAA;\n",
              "      --disabled-bg-color: #DDD;\n",
              "  }\n",
              "\n",
              "  [theme=dark] .colab-df-quickchart {\n",
              "      --bg-color: #3B4455;\n",
              "      --fill-color: #D2E3FC;\n",
              "      --hover-bg-color: #434B5C;\n",
              "      --hover-fill-color: #FFFFFF;\n",
              "      --disabled-bg-color: #3B4455;\n",
              "      --disabled-fill-color: #666;\n",
              "  }\n",
              "\n",
              "  .colab-df-quickchart {\n",
              "    background-color: var(--bg-color);\n",
              "    border: none;\n",
              "    border-radius: 50%;\n",
              "    cursor: pointer;\n",
              "    display: none;\n",
              "    fill: var(--fill-color);\n",
              "    height: 32px;\n",
              "    padding: 0;\n",
              "    width: 32px;\n",
              "  }\n",
              "\n",
              "  .colab-df-quickchart:hover {\n",
              "    background-color: var(--hover-bg-color);\n",
              "    box-shadow: 0 1px 2px rgba(60, 64, 67, 0.3), 0 1px 3px 1px rgba(60, 64, 67, 0.15);\n",
              "    fill: var(--button-hover-fill-color);\n",
              "  }\n",
              "\n",
              "  .colab-df-quickchart-complete:disabled,\n",
              "  .colab-df-quickchart-complete:disabled:hover {\n",
              "    background-color: var(--disabled-bg-color);\n",
              "    fill: var(--disabled-fill-color);\n",
              "    box-shadow: none;\n",
              "  }\n",
              "\n",
              "  .colab-df-spinner {\n",
              "    border: 2px solid var(--fill-color);\n",
              "    border-color: transparent;\n",
              "    border-bottom-color: var(--fill-color);\n",
              "    animation:\n",
              "      spin 1s steps(1) infinite;\n",
              "  }\n",
              "\n",
              "  @keyframes spin {\n",
              "    0% {\n",
              "      border-color: transparent;\n",
              "      border-bottom-color: var(--fill-color);\n",
              "      border-left-color: var(--fill-color);\n",
              "    }\n",
              "    20% {\n",
              "      border-color: transparent;\n",
              "      border-left-color: var(--fill-color);\n",
              "      border-top-color: var(--fill-color);\n",
              "    }\n",
              "    30% {\n",
              "      border-color: transparent;\n",
              "      border-left-color: var(--fill-color);\n",
              "      border-top-color: var(--fill-color);\n",
              "      border-right-color: var(--fill-color);\n",
              "    }\n",
              "    40% {\n",
              "      border-color: transparent;\n",
              "      border-right-color: var(--fill-color);\n",
              "      border-top-color: var(--fill-color);\n",
              "    }\n",
              "    60% {\n",
              "      border-color: transparent;\n",
              "      border-right-color: var(--fill-color);\n",
              "    }\n",
              "    80% {\n",
              "      border-color: transparent;\n",
              "      border-right-color: var(--fill-color);\n",
              "      border-bottom-color: var(--fill-color);\n",
              "    }\n",
              "    90% {\n",
              "      border-color: transparent;\n",
              "      border-bottom-color: var(--fill-color);\n",
              "    }\n",
              "  }\n",
              "</style>\n",
              "\n",
              "  <script>\n",
              "    async function quickchart(key) {\n",
              "      const quickchartButtonEl =\n",
              "        document.querySelector('#' + key + ' button');\n",
              "      quickchartButtonEl.disabled = true;  // To prevent multiple clicks.\n",
              "      quickchartButtonEl.classList.add('colab-df-spinner');\n",
              "      try {\n",
              "        const charts = await google.colab.kernel.invokeFunction(\n",
              "            'suggestCharts', [key], {});\n",
              "      } catch (error) {\n",
              "        console.error('Error during call to suggestCharts:', error);\n",
              "      }\n",
              "      quickchartButtonEl.classList.remove('colab-df-spinner');\n",
              "      quickchartButtonEl.classList.add('colab-df-quickchart-complete');\n",
              "    }\n",
              "    (() => {\n",
              "      let quickchartButtonEl =\n",
              "        document.querySelector('#df-4717e477-d290-4b5e-9395-bc8a628c35df button');\n",
              "      quickchartButtonEl.style.display =\n",
              "        google.colab.kernel.accessAllowed ? 'block' : 'none';\n",
              "    })();\n",
              "  </script>\n",
              "</div>\n",
              "\n",
              "  <div id=\"id_a29ee391-0ead-464a-a31b-85bec1a570f7\">\n",
              "    <style>\n",
              "      .colab-df-generate {\n",
              "        background-color: #E8F0FE;\n",
              "        border: none;\n",
              "        border-radius: 50%;\n",
              "        cursor: pointer;\n",
              "        display: none;\n",
              "        fill: #1967D2;\n",
              "        height: 32px;\n",
              "        padding: 0 0 0 0;\n",
              "        width: 32px;\n",
              "      }\n",
              "\n",
              "      .colab-df-generate:hover {\n",
              "        background-color: #E2EBFA;\n",
              "        box-shadow: 0px 1px 2px rgba(60, 64, 67, 0.3), 0px 1px 3px 1px rgba(60, 64, 67, 0.15);\n",
              "        fill: #174EA6;\n",
              "      }\n",
              "\n",
              "      [theme=dark] .colab-df-generate {\n",
              "        background-color: #3B4455;\n",
              "        fill: #D2E3FC;\n",
              "      }\n",
              "\n",
              "      [theme=dark] .colab-df-generate:hover {\n",
              "        background-color: #434B5C;\n",
              "        box-shadow: 0px 1px 3px 1px rgba(0, 0, 0, 0.15);\n",
              "        filter: drop-shadow(0px 1px 2px rgba(0, 0, 0, 0.3));\n",
              "        fill: #FFFFFF;\n",
              "      }\n",
              "    </style>\n",
              "    <button class=\"colab-df-generate\" onclick=\"generateWithVariable('nba_df')\"\n",
              "            title=\"Generate code using this dataframe.\"\n",
              "            style=\"display:none;\">\n",
              "\n",
              "  <svg xmlns=\"http://www.w3.org/2000/svg\" height=\"24px\"viewBox=\"0 0 24 24\"\n",
              "       width=\"24px\">\n",
              "    <path d=\"M7,19H8.4L18.45,9,17,7.55,7,17.6ZM5,21V16.75L18.45,3.32a2,2,0,0,1,2.83,0l1.4,1.43a1.91,1.91,0,0,1,.58,1.4,1.91,1.91,0,0,1-.58,1.4L9.25,21ZM18.45,9,17,7.55Zm-12,3A5.31,5.31,0,0,0,4.9,8.1,5.31,5.31,0,0,0,1,6.5,5.31,5.31,0,0,0,4.9,4.9,5.31,5.31,0,0,0,6.5,1,5.31,5.31,0,0,0,8.1,4.9,5.31,5.31,0,0,0,12,6.5,5.46,5.46,0,0,0,6.5,12Z\"/>\n",
              "  </svg>\n",
              "    </button>\n",
              "    <script>\n",
              "      (() => {\n",
              "      const buttonEl =\n",
              "        document.querySelector('#id_a29ee391-0ead-464a-a31b-85bec1a570f7 button.colab-df-generate');\n",
              "      buttonEl.style.display =\n",
              "        google.colab.kernel.accessAllowed ? 'block' : 'none';\n",
              "\n",
              "      buttonEl.onclick = () => {\n",
              "        google.colab.notebook.generateWithVariable('nba_df');\n",
              "      }\n",
              "      })();\n",
              "    </script>\n",
              "  </div>\n",
              "\n",
              "    </div>\n",
              "  </div>\n"
            ],
            "application/vnd.google.colaboratory.intrinsic+json": {
              "type": "dataframe",
              "variable_name": "nba_df",
              "summary": "{\n  \"name\": \"nba_df\",\n  \"rows\": 19489,\n  \"fields\": [\n    {\n      \"column\": \"player_id\",\n      \"properties\": {\n        \"dtype\": \"category\",\n        \"num_unique_values\": 3252,\n        \"samples\": [\n          \"kingbe01\",\n          \"bareajo01\",\n          \"mccorke01\"\n        ],\n        \"semantic_type\": \"\",\n        \"description\": \"\"\n      }\n    },\n    {\n      \"column\": \"name_common\",\n      \"properties\": {\n        \"dtype\": \"category\",\n        \"num_unique_values\": 3225,\n        \"samples\": [\n          \"Rafael Araujo\",\n          \"Luol Deng\",\n          \"Doug Christie\"\n        ],\n        \"semantic_type\": \"\",\n        \"description\": \"\"\n      }\n    },\n    {\n      \"column\": \"year_id\",\n      \"properties\": {\n        \"dtype\": \"number\",\n        \"std\": 12,\n        \"min\": 1977,\n        \"max\": 2019,\n        \"num_unique_values\": 43,\n        \"samples\": [\n          1982,\n          1995,\n          1994\n        ],\n        \"semantic_type\": \"\",\n        \"description\": \"\"\n      }\n    },\n    {\n      \"column\": \"age\",\n      \"properties\": {\n        \"dtype\": \"number\",\n        \"std\": 3,\n        \"min\": 18,\n        \"max\": 44,\n        \"num_unique_values\": 27,\n        \"samples\": [\n          23,\n          33,\n          26\n        ],\n        \"semantic_type\": \"\",\n        \"description\": \"\"\n      }\n    },\n    {\n      \"column\": \"team_id\",\n      \"properties\": {\n        \"dtype\": \"category\",\n        \"num_unique_values\": 42,\n        \"samples\": [\n          \"SAC\",\n          \"LAL\",\n          \"DET\"\n        ],\n        \"semantic_type\": \"\",\n        \"description\": \"\"\n      }\n    },\n    {\n      \"column\": \"G\",\n      \"properties\": {\n        \"dtype\": \"number\",\n        \"std\": 27,\n        \"min\": 1,\n        \"max\": 82,\n        \"num_unique_values\": 82,\n        \"samples\": [\n          32,\n          81,\n          79\n        ],\n        \"semantic_type\": \"\",\n        \"description\": \"\"\n      }\n    },\n    {\n      \"column\": \"Min\",\n      \"properties\": {\n        \"dtype\": \"number\",\n        \"std\": 931,\n        \"min\": 0,\n        \"max\": 3638,\n        \"num_unique_values\": 3225,\n        \"samples\": [\n          261,\n          189,\n          702\n        ],\n        \"semantic_type\": \"\",\n        \"description\": \"\"\n      }\n    },\n    {\n      \"column\": \"MPG\",\n      \"properties\": {\n        \"dtype\": \"number\",\n        \"std\": 10.260127836866639,\n        \"min\": 0.0,\n        \"max\": 44.5,\n        \"num_unique_values\": 423,\n        \"samples\": [\n          13.9,\n          34.1,\n          9.7\n        ],\n        \"semantic_type\": \"\",\n        \"description\": \"\"\n      }\n    },\n    {\n      \"column\": \"FT%\",\n      \"properties\": {\n        \"dtype\": \"number\",\n        \"std\": 20.440038200278888,\n        \"min\": 0.0,\n        \"max\": 100.0,\n        \"num_unique_values\": 634,\n        \"samples\": [\n          35.5,\n          77.7,\n          86.6\n        ],\n        \"semantic_type\": \"\",\n        \"description\": \"\"\n      }\n    }\n  ]\n}"
            }
          },
          "metadata": {},
          "execution_count": 3
        }
      ],
      "source": [
        "url = 'https://raw.githubusercontent.com/fivethirtyeight/nba-player-advanced-metrics/master/nba-data-historical.csv'\n",
        "nba_df = pd.read_csv(url)\n",
        "nba_df = nba_df[['player_id', 'name_common', 'year_id', 'age', 'team_id', 'G', 'Min', 'MPG', 'FT%']]\n",
        "nba_df = nba_df.dropna()\n",
        "nba_df"
      ]
    },
    {
      "cell_type": "code",
      "source": [],
      "metadata": {
        "id": "ku9C-yJK31gy"
      },
      "execution_count": null,
      "outputs": []
    },
    {
      "cell_type": "markdown",
      "metadata": {
        "id": "EK8-JqbcbCHl"
      },
      "source": [
        "#### **Problem #1.2**\n",
        "\n",
        "How many players are included in this dataset?"
      ]
    },
    {
      "cell_type": "code",
      "execution_count": 5,
      "metadata": {
        "colab": {
          "base_uri": "https://localhost:8080/"
        },
        "id": "RX_JreSP0I4r",
        "outputId": "4188d10a-75cd-4635-b32c-f39f0894e777"
      },
      "outputs": [
        {
          "output_type": "stream",
          "name": "stdout",
          "text": [
            "Total number of players in this dataset: 3252\n"
          ]
        }
      ],
      "source": [
        "# Count the number of unique players in the 'player_id' column (or 'name_common' if you prefer)\n",
        "total_players = nba_df['player_id'].nunique()\n",
        "\n",
        "print(f\"Total number of players in this dataset: {total_players}\")"
      ]
    },
    {
      "cell_type": "code",
      "source": [],
      "metadata": {
        "id": "7xvoC8eQ4bnS"
      },
      "execution_count": null,
      "outputs": []
    },
    {
      "cell_type": "markdown",
      "metadata": {
        "id": "HJbfXrekN8yc"
      },
      "source": [
        "#### **Problem #1.3**\n",
        "\n",
        "How many columns are in this DataFrame?"
      ]
    },
    {
      "cell_type": "code",
      "execution_count": 6,
      "metadata": {
        "colab": {
          "base_uri": "https://localhost:8080/"
        },
        "id": "TZlZ4XoY0I4r",
        "outputId": "d6df4e6b-3aae-4eb8-821f-a1ba1442a210"
      },
      "outputs": [
        {
          "output_type": "stream",
          "name": "stdout",
          "text": [
            "Total number of columns in the DataFrame: 9\n"
          ]
        }
      ],
      "source": [
        "total_columns = nba_df.shape[1]\n",
        "print(f\"Total number of columns in the DataFrame: {total_columns}\")"
      ]
    },
    {
      "cell_type": "markdown",
      "metadata": {
        "id": "Pg3sQ2OfA8ui"
      },
      "source": [
        "#### **Problem #1.4**\n",
        "How many columns contain numerical data?"
      ]
    },
    {
      "cell_type": "code",
      "execution_count": 7,
      "metadata": {
        "colab": {
          "base_uri": "https://localhost:8080/"
        },
        "id": "ISaRZZBl0I4r",
        "outputId": "b2859bc8-1c1b-44b6-97e1-767dcc73fa87"
      },
      "outputs": [
        {
          "output_type": "stream",
          "name": "stdout",
          "text": [
            "Total number of columns with numerical data: 6\n"
          ]
        }
      ],
      "source": [
        "# Get numerical columns\n",
        "numerical_columns = nba_df.select_dtypes(include=['number'])\n",
        "\n",
        "# Count the number of numerical columns\n",
        "num_numerical_columns = numerical_columns.shape[1]\n",
        "\n",
        "print(f\"Total number of columns with numerical data: {num_numerical_columns}\")\n"
      ]
    },
    {
      "cell_type": "markdown",
      "metadata": {
        "id": "77JnvO9BnTN3"
      },
      "source": [
        "#### **Problem #1.5**\n",
        "\n",
        "How many different NBA teams (`team_id`) are included in the dataset?"
      ]
    },
    {
      "cell_type": "code",
      "execution_count": 8,
      "metadata": {
        "id": "-_NYkYUweniZ",
        "colab": {
          "base_uri": "https://localhost:8080/"
        },
        "outputId": "97e2148e-f91f-4378-9d89-561116d0dc51"
      },
      "outputs": [
        {
          "output_type": "stream",
          "name": "stdout",
          "text": [
            "Total number of different NBA teams in the dataset: 42\n"
          ]
        }
      ],
      "source": [
        "# Count the number of unique teams in the 'team_id' column\n",
        "num_teams = nba_df['team_id'].nunique()\n",
        "\n",
        "print(f\"Total number of different NBA teams in the dataset: {num_teams}\")\n"
      ]
    },
    {
      "cell_type": "markdown",
      "metadata": {
        "id": "GsDVjvO6SGh6"
      },
      "source": [
        "#### **Problem #1.6**\n",
        "\n",
        "What is the most common `age` among all players in the dataset?"
      ]
    },
    {
      "cell_type": "code",
      "execution_count": 9,
      "metadata": {
        "id": "DZPNkhZUW5Ez",
        "colab": {
          "base_uri": "https://localhost:8080/"
        },
        "outputId": "93be10ab-d8ae-4bac-bd78-2a40eff6f284"
      },
      "outputs": [
        {
          "output_type": "stream",
          "name": "stdout",
          "text": [
            "The most common age among all players in the dataset is: 23\n"
          ]
        }
      ],
      "source": [
        "# Find the most common age\n",
        "most_common_age = nba_df['age'].mode()[0]\n",
        "\n",
        "print(f\"The most common age among all players in the dataset is: {most_common_age}\")\n",
        "\n"
      ]
    },
    {
      "cell_type": "markdown",
      "metadata": {
        "id": "couZDunkSeak"
      },
      "source": [
        "\n",
        "#### **Problem #1.7**\n",
        "\n",
        "Complete the code below to output players above the age of 35."
      ]
    },
    {
      "cell_type": "markdown",
      "metadata": {
        "id": "XaTxOHsYgNSh"
      },
      "source": [
        "\n",
        "#### **Problem #1.8**\n",
        "\n",
        "Extract the following columns: `player_id`, `age`, `FT%`"
      ]
    },
    {
      "cell_type": "code",
      "execution_count": 10,
      "metadata": {
        "colab": {
          "base_uri": "https://localhost:8080/"
        },
        "id": "ZDPPY1b10I4s",
        "outputId": "5d5ca024-f7aa-4b30-806f-e00392e052c5"
      },
      "outputs": [
        {
          "output_type": "stream",
          "name": "stdout",
          "text": [
            "Extracted columns:\n",
            "     player_id  age   FT%\n",
            "808  youngtr01   20  82.9\n",
            "809  huertke01   20  73.2\n",
            "810  bembrde01   24  64.0\n",
            "811  collijo01   21  76.3\n",
            "812  bazemke01   29  72.6\n"
          ]
        }
      ],
      "source": [
        "# Extract the specified columns\n",
        "extracted_columns = nba_df[['player_id', 'age', 'FT%']]\n",
        "\n",
        "# Display the resulting DataFrame\n",
        "print(\"Extracted columns:\")\n",
        "print(extracted_columns.head())  # Display the first few rows\n"
      ]
    },
    {
      "cell_type": "code",
      "execution_count": 11,
      "metadata": {
        "colab": {
          "base_uri": "https://localhost:8080/"
        },
        "id": "u6jV7AGGgNSu",
        "outputId": "3923b385-0b70-4def-9ce9-bb6be7372501",
        "scrolled": true,
        "tags": []
      },
      "outputs": [
        {
          "output_type": "stream",
          "name": "stdout",
          "text": [
            "Older players with FT% > 90:\n",
            "       player_id     name_common  year_id  age team_id   G   Min   MPG    FT%\n",
            "1060   bogutan01    Andrew Bogut     2019   34     GSW  11   134  12.2  100.0\n",
            "1221   milescj01        CJ Miles     2019   31     MEM  13   294  22.6   92.9\n",
            "1265   smithja02     Jason Smith     2019   32     MIL   6    40   6.7  100.0\n",
            "1323   smithja02     Jason Smith     2019   32     NOP   2    20  10.0  100.0\n",
            "1359   feltora01  Raymond Felton     2019   34     OKC  33   379  11.5   92.3\n",
            "...          ...             ...      ...  ...     ...  ..   ...   ...    ...\n",
            "26949  barryri01      Rick Barry     1979   34     HOU  80  2566  32.1   94.7\n",
            "27042  vanlino01   Norm Van Lier     1979   31     MIL  38   555  14.6   90.4\n",
            "27137  mcclate01     Ted McClain     1979   32     PHO  36   465  12.9   91.3\n",
            "27401  barryri01      Rick Barry     1978   33     GSW  82  3024  36.9   92.4\n",
            "27881  barryri01      Rick Barry     1977   32     GSW  79  2904  36.8   91.6\n",
            "\n",
            "[276 rows x 9 columns]\n"
          ]
        }
      ],
      "source": [
        "# Define the condition for older players (e.g., age > 30) with FT% > 90\n",
        "older_players = nba_df[(nba_df['FT%'] > 90) & (nba_df['age'] > 30)]\n",
        "\n",
        "# Display the filtered DataFrame\n",
        "print(\"Older players with FT% > 90:\")\n",
        "print(older_players)\n",
        "\n"
      ]
    },
    {
      "cell_type": "markdown",
      "metadata": {
        "id": "krQia8EmhIJV"
      },
      "source": [
        "####**Problem #1.9**\n",
        "Identify players with a Free-Throw Percentage (`FT%`) greater than 90%."
      ]
    },
    {
      "cell_type": "code",
      "source": [
        "# Filter players with FT% > 90%\n",
        "high_ft_players = nba_df[nba_df['FT%'] > 90]\n",
        "\n",
        "# Display the players\n",
        "print(\"Players with FT% greater than 90%:\")\n",
        "print(high_ft_players[['player_id', 'name_common', 'FT%']])\n"
      ],
      "metadata": {
        "colab": {
          "base_uri": "https://localhost:8080/"
        },
        "id": "vLjcmVr36w1E",
        "outputId": "a16a0f17-ef0d-402e-f15b-387202ddbc73"
      },
      "execution_count": 12,
      "outputs": [
        {
          "output_type": "stream",
          "name": "stdout",
          "text": [
            "Players with FT% greater than 90%:\n",
            "       player_id      name_common    FT%\n",
            "827    johnsbj01       BJ Johnson  100.0\n",
            "927    porteot01  Otto Porter Jr.   90.6\n",
            "937     hoodro01      Rodney Hood   91.2\n",
            "944     loveke01       Kevin Love   90.4\n",
            "953     adelde01        Deng Adel  100.0\n",
            "...          ...              ...    ...\n",
            "27881  barryri01       Rick Barry   91.6\n",
            "27893  rogerma01  Marshall Rogers   93.3\n",
            "27894  mcneila01    Larry McNeill   90.3\n",
            "27918   wohlda01        Dave Wohl  100.0\n",
            "27999  davismi02     Mickey Davis   92.0\n",
            "\n",
            "[967 rows x 3 columns]\n"
          ]
        }
      ]
    },
    {
      "cell_type": "code",
      "execution_count": 13,
      "metadata": {
        "id": "TLW-g1CKhN6p",
        "tags": []
      },
      "outputs": [],
      "source": [
        "conditional = nba_df['FT%'] > 90\n",
        "older_players = nba_df[conditional & (nba_df['age'] > 30)]\n",
        "\n",
        "\n"
      ]
    },
    {
      "cell_type": "markdown",
      "metadata": {
        "id": "kxwtlLHyNhrB"
      },
      "source": [
        "#### **Problem #1.10**\n",
        "\n",
        "What is the average age of the players in the dataset?"
      ]
    },
    {
      "cell_type": "code",
      "source": [
        "# Calculate the average age of the players\n",
        "average_age = nba_df['age'].mean()\n",
        "\n",
        "print(f\"The average age of the players in the dataset is: {average_age:.2f}\")\n"
      ],
      "metadata": {
        "colab": {
          "base_uri": "https://localhost:8080/"
        },
        "id": "zHwXF1Z468pM",
        "outputId": "7c1e58d3-407a-49e0-bd13-3a38598692ef"
      },
      "execution_count": 14,
      "outputs": [
        {
          "output_type": "stream",
          "name": "stdout",
          "text": [
            "The average age of the players in the dataset is: 26.72\n"
          ]
        }
      ]
    },
    {
      "cell_type": "markdown",
      "metadata": {
        "id": "qZqrU6FcRQ98"
      },
      "source": [
        "#### **Problem #1.11**\n",
        "\n",
        "What is the median value for the Minutes Per Game (`MPG`) across all players?"
      ]
    },
    {
      "cell_type": "code",
      "source": [
        "# Calculate the median MPG\n",
        "median_mpg = nba_df['MPG'].median()\n",
        "\n",
        "print(f\"The median value for Minutes Per Game (MPG) across all players is: {median_mpg:.2f}\")\n"
      ],
      "metadata": {
        "colab": {
          "base_uri": "https://localhost:8080/"
        },
        "id": "4zROKh5d7Esd",
        "outputId": "f8cab7b9-a776-46c2-d598-2800da1efd2f"
      },
      "execution_count": 15,
      "outputs": [
        {
          "output_type": "stream",
          "name": "stdout",
          "text": [
            "The median value for Minutes Per Game (MPG) across all players is: 19.50\n"
          ]
        }
      ]
    },
    {
      "cell_type": "code",
      "execution_count": null,
      "metadata": {
        "id": "QIZUS-3p0I4t"
      },
      "outputs": [],
      "source": []
    },
    {
      "cell_type": "markdown",
      "metadata": {
        "id": "yAjh84sLRuFi"
      },
      "source": [
        "#### **Problem #1.12**\n",
        "\n",
        "Calculate the sum of minutes played (`Min`) for all players in the dataset."
      ]
    },
    {
      "cell_type": "code",
      "source": [
        "import pandas as pd\n",
        "\n",
        "# Provide the correct dataset URL or file path\n",
        "url = 'https://raw.githubusercontent.com/fivethirtyeight/nba-player-advanced-metrics/master/nba-data-historical.csv'\n",
        "\n",
        "# Load the dataset\n",
        "nba_df = pd.read_csv(url)\n",
        "\n",
        "# Filter relevant columns and drop missing values\n",
        "nba_df = nba_df[['player_id', 'name_common', 'year_id', 'age', 'team_id', 'G', 'Min', 'MPG', 'FT%']].dropna()\n",
        "\n",
        "# Calculate the sum of minutes played\n",
        "total_minutes_played = nba_df['Min'].sum()\n",
        "\n",
        "print(f\"The total minutes played by all players in the dataset is: {total_minutes_played}\")\n",
        "\n"
      ],
      "metadata": {
        "colab": {
          "base_uri": "https://localhost:8080/"
        },
        "id": "O5MUu-3K7Lj9",
        "outputId": "b3ac9432-8896-4821-edec-7fdc1bf31367"
      },
      "execution_count": 16,
      "outputs": [
        {
          "output_type": "stream",
          "name": "stdout",
          "text": [
            "The total minutes played by all players in the dataset is: 22847833\n"
          ]
        }
      ]
    },
    {
      "cell_type": "code",
      "execution_count": null,
      "metadata": {
        "id": "pY6toIAm0I4t"
      },
      "outputs": [],
      "source": []
    },
    {
      "cell_type": "markdown",
      "metadata": {
        "id": "vLNdkkSURW0K"
      },
      "source": [
        "<a name=\"p2\"></a>\n",
        "\n",
        "---\n",
        "## **Part 2: Data Visualizations**\n",
        "---"
      ]
    },
    {
      "cell_type": "markdown",
      "metadata": {
        "id": "QTN6gRfFMuVa"
      },
      "source": [
        "<a name=\"p2.1\"></a>\n",
        "\n",
        "---\n",
        "### **Part 2.1: Scatter Plots**\n",
        "---"
      ]
    },
    {
      "cell_type": "markdown",
      "metadata": {
        "id": "lhiUHLAnkXG_"
      },
      "source": [
        "#### **Problem #2.1.1**\n",
        "\n",
        "Create a scatter plot given the array `x_range` and array `y_range`. Add a title called \"Random Variable Vs. Random Variable\" to the graph. And add x- and y-labels that say \"Random X\" and \"Random Y\", respectively."
      ]
    },
    {
      "cell_type": "code",
      "execution_count": 17,
      "metadata": {
        "id": "1ZYDX62SkXG_",
        "tags": [],
        "colab": {
          "base_uri": "https://localhost:8080/",
          "height": 472
        },
        "outputId": "78163ae9-d24c-4393-e2d9-9167f3515554"
      },
      "outputs": [
        {
          "output_type": "display_data",
          "data": {
            "text/plain": [
              "<Figure size 640x480 with 1 Axes>"
            ],
            "image/png": "[encoded data removed]"
          },
          "metadata": {}
        }
      ],
      "source": [
        "\n",
        "\n",
        "# Generate random data for x and y ranges\n",
        "x_range = np.random.randint(400, size=50)\n",
        "y_range = np.random.randint(400, size=50)\n",
        "\n",
        "# Create a scatter plot\n",
        "plt.scatter(x_range, y_range)\n",
        "plt.title('Scatter Plot of Random Points')\n",
        "plt.xlabel('X Range')\n",
        "plt.ylabel('Y Range')\n",
        "plt.show()\n"
      ]
    },
    {
      "cell_type": "markdown",
      "metadata": {
        "id": "6S8fsll0UQXt"
      },
      "source": [
        "#### **Problem #2.1.2**\n",
        "\n",
        "Given the following scatter plot, add the following labels and title:\n",
        "* `Title`: \"Distance vs Workout Duration\"\n",
        "* `X-axis`: \"Distance (km)\"\n",
        "* `Y-axis`: \"Workout Duration (min)\""
      ]
    },
    {
      "cell_type": "code",
      "execution_count": 18,
      "metadata": {
        "colab": {
          "base_uri": "https://localhost:8080/",
          "height": 472
        },
        "id": "8_s7i36wH5qM",
        "outputId": "55a539a6-5734-4102-83c8-952cfa9085a0",
        "tags": []
      },
      "outputs": [
        {
          "output_type": "display_data",
          "data": {
            "text/plain": [
              "<Figure size 640x480 with 1 Axes>"
            ],
            "image/png": "[encoded data removed]"
          },
          "metadata": {}
        }
      ],
      "source": [
        "\n",
        "\n",
        "# Create the DataFrame\n",
        "workout_df = pd.DataFrame({\n",
        "    \"date\": [\"10/17/21\", \"11/04/21\", \"11/18/21\", \"11/23/21\", \"11/28/21\", \"11/29/21\"],\n",
        "    \"distance_km\": [4.3, 1.9, 1.9, 1.9, 2.3, 2.8],\n",
        "    \"duration_min\": [21.58, 9.25, 9.0, 8.93, 11.94, 14.05],\n",
        "    \"delta_last_workout\": [1, 18, 14, 5, 5, 1],\n",
        "    \"day_category\": [0, 1, 1, 0, 0, 0]\n",
        "})\n",
        "\n",
        "# Create a scatter plot\n",
        "plt.scatter(workout_df['distance_km'], workout_df['duration_min'], c='blue', label='Workouts')\n",
        "plt.title('Workout Distance vs Duration')\n",
        "plt.xlabel('Distance (km)')\n",
        "plt.ylabel('Duration (min)')\n",
        "plt.legend()\n",
        "plt.show()\n"
      ]
    },
    {
      "cell_type": "markdown",
      "metadata": {
        "id": "-J73dIIJM1PS"
      },
      "source": [
        "#### **Problem #2.1.3**\n",
        "\n",
        "Create a scatter plot for the following data. Make the title and labels the following:\n",
        "* `Title`: \"Age vs. height in teenagers\"\n",
        "* `X-axis`: \"Age\"\n",
        "* `Y-axis`: \"Height (in)\""
      ]
    },
    {
      "cell_type": "code",
      "execution_count": 19,
      "metadata": {
        "id": "Z9DTJN9xM1Pa",
        "tags": [],
        "colab": {
          "base_uri": "https://localhost:8080/",
          "height": 490
        },
        "outputId": "0b245ef5-ba3e-4317-b3bf-4b466c1ba4f9"
      },
      "outputs": [
        {
          "output_type": "execute_result",
          "data": {
            "text/plain": [
              "<matplotlib.legend.Legend at 0x7f768fc433a0>"
            ]
          },
          "metadata": {},
          "execution_count": 19
        },
        {
          "output_type": "display_data",
          "data": {
            "text/plain": [
              "<Figure size 640x480 with 1 Axes>"
            ],
            "image/png": "[encoded data removed]"
          },
          "metadata": {}
        }
      ],
      "source": [
        "# Data for the scatter plot\n",
        "age = [14, 14, 13, 18, 17, 20, 17, 16, 19, 19]\n",
        "height = [65, 68, 58, 61, 64, 75, 67, 69, 71, 63]  # in inches\n",
        "\n",
        "# Create the scatter plot\n",
        "plt.scatter(age, height, color='green', label='Age vs Height')\n",
        "plt.title('Scatter Plot of Age vs Height')\n",
        "plt.xlabel('Age (years)')\n",
        "plt.ylabel('Height (inches)')\n",
        "plt.legend()\n",
        "\n",
        "\n"
      ]
    },
    {
      "cell_type": "markdown",
      "metadata": {
        "id": "ARuA9pPBnP_6"
      },
      "source": [
        "<a name=\"p2.2\"></a>\n",
        "\n",
        "---\n",
        "### **Part 2.2: Line Plots**\n",
        "---"
      ]
    },
    {
      "cell_type": "markdown",
      "metadata": {
        "id": "Luab9N3dM1pO"
      },
      "source": [
        "#### **Problem #2.2.1**\n",
        "\n",
        "Create a line plot for the following data. Add a title called \"Bike Rideshare Activity\" with x-axis and y-axis labels called \"Month\" and \"Bike Trips\", respectively."
      ]
    },
    {
      "cell_type": "code",
      "execution_count": 20,
      "metadata": {
        "id": "AgldHJkyM1pP",
        "tags": [],
        "colab": {
          "base_uri": "https://localhost:8080/",
          "height": 472
        },
        "outputId": "920076be-967c-4b02-95a4-cd8f57a8f0c7"
      },
      "outputs": [
        {
          "output_type": "display_data",
          "data": {
            "text/plain": [
              "<Figure size 640x480 with 1 Axes>"
            ],
            "image/png": "[encoded data removed]"
          },
          "metadata": {}
        }
      ],
      "source": [
        "# Data for the line plot\n",
        "months = [1, 2, 3, 4, 5, 6, 7, 8, 9, 10, 11, 12]\n",
        "trips = [300, 358, 521, 574, 783, 1549, 1776, 1920, 1714, 1234, 703, 438]\n",
        "\n",
        "# Create the line plot\n",
        "plt.plot(months, trips, marker='o', linestyle='-', color='blue', label='Trips per Month')\n",
        "plt.title('Trips Over the Months')\n",
        "plt.xlabel('Month')\n",
        "plt.ylabel('Number of Trips')\n",
        "plt.xticks(months)  # Ensure months are labeled correctly\n",
        "plt.legend()\n",
        "plt.grid(True)\n",
        "plt.show()\n",
        "\n"
      ]
    },
    {
      "cell_type": "markdown",
      "metadata": {
        "id": "fQ0i35FMVMXq"
      },
      "source": [
        "#### **Problem #2.2.2**\n",
        "\n",
        "Create a line plot for the following data. Add a title called \"Unemployment rate over the years\" with x-axis and y-axis labels called \"Year\" and \"Unemployment\", respectively."
      ]
    },
    {
      "cell_type": "code",
      "execution_count": 21,
      "metadata": {
        "id": "TEXIY336VQt6",
        "tags": []
      },
      "outputs": [],
      "source": [
        "Year = [1920,1930,1940,1950,1960,1970,1980,1990,2000,2010]\n",
        "Unemployment_Rate = [9.8,12,8,7.2,6.9,7,6.5,6.2,5.5,6.3]"
      ]
    },
    {
      "cell_type": "code",
      "execution_count": 22,
      "metadata": {
        "id": "rGEQAClLOJ6X",
        "tags": [],
        "colab": {
          "base_uri": "https://localhost:8080/",
          "height": 448
        },
        "outputId": "c1be7cea-01a1-4c24-c9f2-a188b226905b"
      },
      "outputs": [
        {
          "output_type": "execute_result",
          "data": {
            "text/plain": [
              "[<matplotlib.lines.Line2D at 0x7f7691012d40>]"
            ]
          },
          "metadata": {},
          "execution_count": 22
        },
        {
          "output_type": "display_data",
          "data": {
            "text/plain": [
              "<Figure size 640x480 with 1 Axes>"
            ],
            "image/png": "[encoded data removed]"
          },
          "metadata": {}
        }
      ],
      "source": [
        "plt.plot(Year, Unemployment_Rate, marker='o', linestyle='-', color='blue', label='Unemployment Rate')\n"
      ]
    },
    {
      "cell_type": "markdown",
      "metadata": {
        "id": "JxoW7uzFos1r"
      },
      "source": [
        "#### **Problem #2.2.3**\n",
        "\n",
        "The information below contains data related to how many people have visited Disney parks globally. Create a line plot to show how the number of visits have changed between 2017 to 2020. Make sure you add in helpful labels and a title.\n",
        "\n",
        "**Note:** Visitors is in millions. For example, in 2017, 150 million people visited Disney parks globally."
      ]
    },
    {
      "cell_type": "code",
      "execution_count": 23,
      "metadata": {
        "id": "nVRMZkbCos15",
        "tags": []
      },
      "outputs": [],
      "source": [
        "year = [2017, 2018, 2019, 2020]\n",
        "visitors = [150, 157, 155.991, 43.525]"
      ]
    },
    {
      "cell_type": "code",
      "execution_count": 24,
      "metadata": {
        "id": "aiovjQ71os15",
        "tags": [],
        "colab": {
          "base_uri": "https://localhost:8080/",
          "height": 448
        },
        "outputId": "76889278-c6a1-4c08-d7b6-dac495b9e347"
      },
      "outputs": [
        {
          "output_type": "execute_result",
          "data": {
            "text/plain": [
              "[<matplotlib.lines.Line2D at 0x7f768fbf7730>]"
            ]
          },
          "metadata": {},
          "execution_count": 24
        },
        {
          "output_type": "display_data",
          "data": {
            "text/plain": [
              "<Figure size 640x480 with 1 Axes>"
            ],
            "image/png": "[encoded data removed]"
          },
          "metadata": {}
        }
      ],
      "source": [
        "plt.plot(year, visitors, marker='o', linestyle='-', color='green', label='Visitors')\n",
        "\n"
      ]
    },
    {
      "cell_type": "markdown",
      "metadata": {
        "id": "IA7S4-2MnQI2"
      },
      "source": [
        "<a name=\"p2.3\"></a>\n",
        "\n",
        "---\n",
        "### **Part 2.3: Bar Plots**\n",
        "---"
      ]
    },
    {
      "cell_type": "markdown",
      "metadata": {
        "id": "p3honiJxkXHA"
      },
      "source": [
        "#### **Problem #2.3.1**\n",
        "\n",
        "Now, plot the same data as above, but using a bar plot. In some cases, it may not be clear which plot will be best until you see your options!"
      ]
    },
    {
      "cell_type": "code",
      "execution_count": 25,
      "metadata": {
        "id": "knqSeSg0kXHB",
        "tags": []
      },
      "outputs": [],
      "source": [
        "year = ['2017', '2018', '2019', '2020']\n",
        "visitors = [150, 157, 155.991, 43.525]"
      ]
    },
    {
      "cell_type": "code",
      "execution_count": 26,
      "metadata": {
        "id": "441xyVRvkXHB",
        "tags": [],
        "colab": {
          "base_uri": "https://localhost:8080/",
          "height": 448
        },
        "outputId": "f1028db7-2ae3-45c0-d0a4-5ab1aa187d22"
      },
      "outputs": [
        {
          "output_type": "execute_result",
          "data": {
            "text/plain": [
              "<BarContainer object of 4 artists>"
            ]
          },
          "metadata": {},
          "execution_count": 26
        },
        {
          "output_type": "display_data",
          "data": {
            "text/plain": [
              "<Figure size 640x480 with 1 Axes>"
            ],
            "image/png": "[encoded data removed]"
          },
          "metadata": {}
        }
      ],
      "source": [
        "plt.bar(year, visitors, color='orange', label='Visitors')\n"
      ]
    },
    {
      "cell_type": "markdown",
      "metadata": {
        "id": "AVjC3efXkXHC"
      },
      "source": [
        "#### **Problem #2.3.2**\n",
        "\n",
        "Create a bar plot for the following data. Add a title called \"Favorite Types of Drinks\" with x-axis and y-axis labels called \"Drink\" and \"Number of People\", respectively."
      ]
    },
    {
      "cell_type": "code",
      "execution_count": 27,
      "metadata": {
        "id": "NzbmRrWAkXHC",
        "tags": [],
        "colab": {
          "base_uri": "https://localhost:8080/",
          "height": 448
        },
        "outputId": "fb618ad8-4403-4921-e928-039550e59920"
      },
      "outputs": [
        {
          "output_type": "execute_result",
          "data": {
            "text/plain": [
              "<BarContainer object of 5 artists>"
            ]
          },
          "metadata": {},
          "execution_count": 27
        },
        {
          "output_type": "display_data",
          "data": {
            "text/plain": [
              "<Figure size 640x480 with 1 Axes>"
            ],
            "image/png": "[encoded data removed]"
          },
          "metadata": {}
        }
      ],
      "source": [
        "drinks = [\"water\", \"tea\", \"coffee\", \"juice\", \"soda\"]\n",
        "people = [12, 5, 17, 15, 9]\n",
        "\n",
        "plt.bar(drinks, people, color='blue', label='Number of People')\n",
        "\n"
      ]
    },
    {
      "cell_type": "markdown",
      "metadata": {
        "id": "9pyY5MuXUX1R"
      },
      "source": [
        "#### **Problem #2.3.3**\n",
        "\n",
        "Create a bar plot using the DataFrame below. Add labels: `Innovative companies` for the title, `Countries` for the x-axis label, and `Number of Companies` for the y-axis label."
      ]
    },
    {
      "cell_type": "code",
      "execution_count": 28,
      "metadata": {
        "id": "i0sk0NKfUYYo",
        "tags": [],
        "colab": {
          "base_uri": "https://localhost:8080/",
          "height": 206
        },
        "outputId": "382bde2d-e5c0-4d93-cd09-8251d78badb9"
      },
      "outputs": [
        {
          "output_type": "execute_result",
          "data": {
            "text/plain": [
              "     countries  companies\n",
              "0          USA         25\n",
              "1  South Korea          2\n",
              "2        China          3\n",
              "3        Japan          3\n",
              "4      Germany          6"
            ],
            "text/html": [
              "\n",
              "  <div id=\"df-45c9a327-4d82-46fa-9e25-c9432b272587\" class=\"colab-df-container\">\n",
              "    <div>\n",
              "<style scoped>\n",
              "    .dataframe tbody tr th:only-of-type {\n",
              "        vertical-align: middle;\n",
              "    }\n",
              "\n",
              "    .dataframe tbody tr th {\n",
              "        vertical-align: top;\n",
              "    }\n",
              "\n",
              "    .dataframe thead th {\n",
              "        text-align: right;\n",
              "    }\n",
              "</style>\n",
              "<table border=\"1\" class=\"dataframe\">\n",
              "  <thead>\n",
              "    <tr style=\"text-align: right;\">\n",
              "      <th></th>\n",
              "      <th>countries</th>\n",
              "      <th>companies</th>\n",
              "    </tr>\n",
              "  </thead>\n",
              "  <tbody>\n",
              "    <tr>\n",
              "      <th>0</th>\n",
              "      <td>USA</td>\n",
              "      <td>25</td>\n",
              "    </tr>\n",
              "    <tr>\n",
              "      <th>1</th>\n",
              "      <td>South Korea</td>\n",
              "      <td>2</td>\n",
              "    </tr>\n",
              "    <tr>\n",
              "      <th>2</th>\n",
              "      <td>China</td>\n",
              "      <td>3</td>\n",
              "    </tr>\n",
              "    <tr>\n",
              "      <th>3</th>\n",
              "      <td>Japan</td>\n",
              "      <td>3</td>\n",
              "    </tr>\n",
              "    <tr>\n",
              "      <th>4</th>\n",
              "      <td>Germany</td>\n",
              "      <td>6</td>\n",
              "    </tr>\n",
              "  </tbody>\n",
              "</table>\n",
              "</div>\n",
              "    <div class=\"colab-df-buttons\">\n",
              "\n",
              "  <div class=\"colab-df-container\">\n",
              "    <button class=\"colab-df-convert\" onclick=\"convertToInteractive('df-45c9a327-4d82-46fa-9e25-c9432b272587')\"\n",
              "            title=\"Convert this dataframe to an interactive table.\"\n",
              "            style=\"display:none;\">\n",
              "\n",
              "  <svg xmlns=\"http://www.w3.org/2000/svg\" height=\"24px\" viewBox=\"0 -960 960 960\">\n",
              "    <path d=\"M120-120v-720h720v720H120Zm60-500h600v-160H180v160Zm220 220h160v-160H400v160Zm0 220h160v-160H400v160ZM180-400h160v-160H180v160Zm440 0h160v-160H620v160ZM180-180h160v-160H180v160Zm440 0h160v-160H620v160Z\"/>\n",
              "  </svg>\n",
              "    </button>\n",
              "\n",
              "  <style>\n",
              "    .colab-df-container {\n",
              "      display:flex;\n",
              "      gap: 12px;\n",
              "    }\n",
              "\n",
              "    .colab-df-convert {\n",
              "      background-color: #E8F0FE;\n",
              "      border: none;\n",
              "      border-radius: 50%;\n",
              "      cursor: pointer;\n",
              "      display: none;\n",
              "      fill: #1967D2;\n",
              "      height: 32px;\n",
              "      padding: 0 0 0 0;\n",
              "      width: 32px;\n",
              "    }\n",
              "\n",
              "    .colab-df-convert:hover {\n",
              "      background-color: #E2EBFA;\n",
              "      box-shadow: 0px 1px 2px rgba(60, 64, 67, 0.3), 0px 1px 3px 1px rgba(60, 64, 67, 0.15);\n",
              "      fill: #174EA6;\n",
              "    }\n",
              "\n",
              "    .colab-df-buttons div {\n",
              "      margin-bottom: 4px;\n",
              "    }\n",
              "\n",
              "    [theme=dark] .colab-df-convert {\n",
              "      background-color: #3B4455;\n",
              "      fill: #D2E3FC;\n",
              "    }\n",
              "\n",
              "    [theme=dark] .colab-df-convert:hover {\n",
              "      background-color: #434B5C;\n",
              "      box-shadow: 0px 1px 3px 1px rgba(0, 0, 0, 0.15);\n",
              "      filter: drop-shadow(0px 1px 2px rgba(0, 0, 0, 0.3));\n",
              "      fill: #FFFFFF;\n",
              "    }\n",
              "  </style>\n",
              "\n",
              "    <script>\n",
              "      const buttonEl =\n",
              "        document.querySelector('#df-45c9a327-4d82-46fa-9e25-c9432b272587 button.colab-df-convert');\n",
              "      buttonEl.style.display =\n",
              "        google.colab.kernel.accessAllowed ? 'block' : 'none';\n",
              "\n",
              "      async function convertToInteractive(key) {\n",
              "        const element = document.querySelector('#df-45c9a327-4d82-46fa-9e25-c9432b272587');\n",
              "        const dataTable =\n",
              "          await google.colab.kernel.invokeFunction('convertToInteractive',\n",
              "                                                    [key], {});\n",
              "        if (!dataTable) return;\n",
              "\n",
              "        const docLinkHtml = 'Like what you see? Visit the ' +\n",
              "          '<a target=\"_blank\" href=https://colab.research.google.com/notebooks/data_table.ipynb>data table notebook</a>'\n",
              "          + ' to learn more about interactive tables.';\n",
              "        element.innerHTML = '';\n",
              "        dataTable['output_type'] = 'display_data';\n",
              "        await google.colab.output.renderOutput(dataTable, element);\n",
              "        const docLink = document.createElement('div');\n",
              "        docLink.innerHTML = docLinkHtml;\n",
              "        element.appendChild(docLink);\n",
              "      }\n",
              "    </script>\n",
              "  </div>\n",
              "\n",
              "\n",
              "<div id=\"df-10c3bf2c-5b39-4edf-88a3-bf6c6b87fcff\">\n",
              "  <button class=\"colab-df-quickchart\" onclick=\"quickchart('df-10c3bf2c-5b39-4edf-88a3-bf6c6b87fcff')\"\n",
              "            title=\"Suggest charts\"\n",
              "            style=\"display:none;\">\n",
              "\n",
              "<svg xmlns=\"http://www.w3.org/2000/svg\" height=\"24px\"viewBox=\"0 0 24 24\"\n",
              "     width=\"24px\">\n",
              "    <g>\n",
              "        <path d=\"M19 3H5c-1.1 0-2 .9-2 2v14c0 1.1.9 2 2 2h14c1.1 0 2-.9 2-2V5c0-1.1-.9-2-2-2zM9 17H7v-7h2v7zm4 0h-2V7h2v10zm4 0h-2v-4h2v4z\"/>\n",
              "    </g>\n",
              "</svg>\n",
              "  </button>\n",
              "\n",
              "<style>\n",
              "  .colab-df-quickchart {\n",
              "      --bg-color: #E8F0FE;\n",
              "      --fill-color: #1967D2;\n",
              "      --hover-bg-color: #E2EBFA;\n",
              "      --hover-fill-color: #174EA6;\n",
              "      --disabled-fill-color: #AAA;\n",
              "      --disabled-bg-color: #DDD;\n",
              "  }\n",
              "\n",
              "  [theme=dark] .colab-df-quickchart {\n",
              "      --bg-color: #3B4455;\n",
              "      --fill-color: #D2E3FC;\n",
              "      --hover-bg-color: #434B5C;\n",
              "      --hover-fill-color: #FFFFFF;\n",
              "      --disabled-bg-color: #3B4455;\n",
              "      --disabled-fill-color: #666;\n",
              "  }\n",
              "\n",
              "  .colab-df-quickchart {\n",
              "    background-color: var(--bg-color);\n",
              "    border: none;\n",
              "    border-radius: 50%;\n",
              "    cursor: pointer;\n",
              "    display: none;\n",
              "    fill: var(--fill-color);\n",
              "    height: 32px;\n",
              "    padding: 0;\n",
              "    width: 32px;\n",
              "  }\n",
              "\n",
              "  .colab-df-quickchart:hover {\n",
              "    background-color: var(--hover-bg-color);\n",
              "    box-shadow: 0 1px 2px rgba(60, 64, 67, 0.3), 0 1px 3px 1px rgba(60, 64, 67, 0.15);\n",
              "    fill: var(--button-hover-fill-color);\n",
              "  }\n",
              "\n",
              "  .colab-df-quickchart-complete:disabled,\n",
              "  .colab-df-quickchart-complete:disabled:hover {\n",
              "    background-color: var(--disabled-bg-color);\n",
              "    fill: var(--disabled-fill-color);\n",
              "    box-shadow: none;\n",
              "  }\n",
              "\n",
              "  .colab-df-spinner {\n",
              "    border: 2px solid var(--fill-color);\n",
              "    border-color: transparent;\n",
              "    border-bottom-color: var(--fill-color);\n",
              "    animation:\n",
              "      spin 1s steps(1) infinite;\n",
              "  }\n",
              "\n",
              "  @keyframes spin {\n",
              "    0% {\n",
              "      border-color: transparent;\n",
              "      border-bottom-color: var(--fill-color);\n",
              "      border-left-color: var(--fill-color);\n",
              "    }\n",
              "    20% {\n",
              "      border-color: transparent;\n",
              "      border-left-color: var(--fill-color);\n",
              "      border-top-color: var(--fill-color);\n",
              "    }\n",
              "    30% {\n",
              "      border-color: transparent;\n",
              "      border-left-color: var(--fill-color);\n",
              "      border-top-color: var(--fill-color);\n",
              "      border-right-color: var(--fill-color);\n",
              "    }\n",
              "    40% {\n",
              "      border-color: transparent;\n",
              "      border-right-color: var(--fill-color);\n",
              "      border-top-color: var(--fill-color);\n",
              "    }\n",
              "    60% {\n",
              "      border-color: transparent;\n",
              "      border-right-color: var(--fill-color);\n",
              "    }\n",
              "    80% {\n",
              "      border-color: transparent;\n",
              "      border-right-color: var(--fill-color);\n",
              "      border-bottom-color: var(--fill-color);\n",
              "    }\n",
              "    90% {\n",
              "      border-color: transparent;\n",
              "      border-bottom-color: var(--fill-color);\n",
              "    }\n",
              "  }\n",
              "</style>\n",
              "\n",
              "  <script>\n",
              "    async function quickchart(key) {\n",
              "      const quickchartButtonEl =\n",
              "        document.querySelector('#' + key + ' button');\n",
              "      quickchartButtonEl.disabled = true;  // To prevent multiple clicks.\n",
              "      quickchartButtonEl.classList.add('colab-df-spinner');\n",
              "      try {\n",
              "        const charts = await google.colab.kernel.invokeFunction(\n",
              "            'suggestCharts', [key], {});\n",
              "      } catch (error) {\n",
              "        console.error('Error during call to suggestCharts:', error);\n",
              "      }\n",
              "      quickchartButtonEl.classList.remove('colab-df-spinner');\n",
              "      quickchartButtonEl.classList.add('colab-df-quickchart-complete');\n",
              "    }\n",
              "    (() => {\n",
              "      let quickchartButtonEl =\n",
              "        document.querySelector('#df-10c3bf2c-5b39-4edf-88a3-bf6c6b87fcff button');\n",
              "      quickchartButtonEl.style.display =\n",
              "        google.colab.kernel.accessAllowed ? 'block' : 'none';\n",
              "    })();\n",
              "  </script>\n",
              "</div>\n",
              "\n",
              "    </div>\n",
              "  </div>\n"
            ],
            "application/vnd.google.colaboratory.intrinsic+json": {
              "type": "dataframe",
              "summary": "{\n  \"name\": \"# add code\",\n  \"rows\": 5,\n  \"fields\": [\n    {\n      \"column\": \"countries\",\n      \"properties\": {\n        \"dtype\": \"string\",\n        \"num_unique_values\": 5,\n        \"samples\": [\n          \"South Korea\",\n          \"Germany\",\n          \"China\"\n        ],\n        \"semantic_type\": \"\",\n        \"description\": \"\"\n      }\n    },\n    {\n      \"column\": \"companies\",\n      \"properties\": {\n        \"dtype\": \"number\",\n        \"std\": 9,\n        \"min\": 2,\n        \"max\": 25,\n        \"num_unique_values\": 4,\n        \"samples\": [\n          2,\n          6,\n          25\n        ],\n        \"semantic_type\": \"\",\n        \"description\": \"\"\n      }\n    }\n  ]\n}"
            }
          },
          "metadata": {},
          "execution_count": 28
        }
      ],
      "source": [
        "companies_df = pd.DataFrame({\"countries\": [\"USA\", \"South Korea\", \"China\", \"Japan\", \"Germany\", \"Netherlands\", \"India\", \"France\", \"London\", \"Switzerland\", \"Sweden\", \"Italy\"],\n",
        "             \"companies\": [25, 2, 3, 3, 6, 1, 3, 1, 1, 2, 2, 1]})\n",
        "\n",
        "companies_df.head()\n",
        "\n",
        "# add code\n"
      ]
    },
    {
      "cell_type": "markdown",
      "metadata": {
        "id": "NDtjzSxflNul"
      },
      "source": [
        "<a name=\"p2.4\"></a>\n",
        "\n",
        "---\n",
        "### **Part 2.4: Improving Visualizations [OPTIONAL]**\n",
        "---"
      ]
    },
    {
      "cell_type": "markdown",
      "metadata": {
        "id": "N2s15JrL54G8"
      },
      "source": [
        "#### **Problem #2.4.1**\n",
        "\n",
        "Using the following data, create a line plot.\n",
        "\n",
        "**Hint:** Your graph should have three distinct lines corresponding to `y1`, `y2`, and `y3`.\n",
        "\n",
        "In addition:\n",
        "* Make sure each line is a different color\n",
        "* Make `y1` a dashed line\n",
        "* Add a grid to the background and make the background color black\n",
        "* Add a legend"
      ]
    },
    {
      "cell_type": "code",
      "execution_count": 29,
      "metadata": {
        "id": "n_wxFXOn54HF",
        "tags": [],
        "colab": {
          "base_uri": "https://localhost:8080/",
          "height": 448
        },
        "outputId": "19f4fba4-57f3-4f30-f400-d8573e4795c1"
      },
      "outputs": [
        {
          "output_type": "execute_result",
          "data": {
            "text/plain": [
              "[<matplotlib.lines.Line2D at 0x7f768c799cf0>]"
            ]
          },
          "metadata": {},
          "execution_count": 29
        },
        {
          "output_type": "display_data",
          "data": {
            "text/plain": [
              "<Figure size 640x480 with 1 Axes>"
            ],
            "image/png": "[encoded data removed]"
          },
          "metadata": {}
        }
      ],
      "source": [
        "# x axis values\n",
        "x = [1,2,3,4,5]\n",
        "# corresponding y axis values\n",
        "y1 = [2,4,6,8,10] # y = 2x\n",
        "y2 = [0.5,1,1.5,2,2.5] # y = 0.5x\n",
        "y3 = [1,4,9,16,25] # y = x^2\n",
        "\n",
        "plt.plot(x, y1, label='y = 2x')\n",
        "plt.plot(x, y2, label='y = 0.5x')\n",
        "plt.plot(x, y3, label='y = x^2')"
      ]
    },
    {
      "cell_type": "markdown",
      "metadata": {
        "id": "1zi19lH88t_L"
      },
      "source": [
        "#### **Problem #2.4.2**\n",
        "\n",
        "Using the following data, create a scatter plot. In addition:\n",
        "* Make the data points green\n",
        "* Change the transparency to 0.6\n",
        "* Make the x-label `Temperature (Fahrenheit)` and in the font `fantasy`\n",
        "* Make the y-label `Number of People` and in the font `fantasy`\n",
        "* Make the title `Number of People at the Beach` and in the font `fantasy`"
      ]
    },
    {
      "cell_type": "code",
      "execution_count": 30,
      "metadata": {
        "id": "HzKR7meU8t_W",
        "tags": [],
        "colab": {
          "base_uri": "https://localhost:8080/",
          "height": 448
        },
        "outputId": "e68d270e-8e82-40b1-ba24-da6ac84ce96c"
      },
      "outputs": [
        {
          "output_type": "execute_result",
          "data": {
            "text/plain": [
              "[<matplotlib.lines.Line2D at 0x7f768c630460>]"
            ]
          },
          "metadata": {},
          "execution_count": 30
        },
        {
          "output_type": "display_data",
          "data": {
            "text/plain": [
              "<Figure size 640x480 with 1 Axes>"
            ],
            "image/png": "[encoded data removed]"
          },
          "metadata": {}
        }
      ],
      "source": [
        "# x axis values\n",
        "x = [87, 94, 98, 102, 96, 90, 92, 93, 85, 82, 96, 80, 90, 91]\n",
        "# corresponding y axis values\n",
        "y = [204, 375, 522, 731, 439, 302, 317, 346, 268, 197, 649, 158, 327, 353]\n",
        "\n",
        "plt.plot(x, y, marker='o', linestyle='-', color='b', label='Data points')"
      ]
    },
    {
      "cell_type": "markdown",
      "metadata": {
        "id": "y-ILZBA-8ukB"
      },
      "source": [
        "#### **Problem #2.4.3**\n",
        "\n",
        "Using the following data, create a bar plot. In addition:\n",
        "* Make each bar's color the same as the color name\n",
        "* Make the x-label `Favorite Color` and with a font size of 12\n",
        "* Make the y-label `Number of People` and with a font size of 12\n",
        "* Make the title `Number of People vs Favorite Color` and with a font size of 20\n",
        "* Make the bar width 0.6"
      ]
    },
    {
      "cell_type": "code",
      "execution_count": 31,
      "metadata": {
        "id": "C-PM-Uc18ukC",
        "tags": [],
        "colab": {
          "base_uri": "https://localhost:8080/",
          "height": 448
        },
        "outputId": "7b810be2-b44b-4ed0-c96e-960ba87738e1"
      },
      "outputs": [
        {
          "output_type": "execute_result",
          "data": {
            "text/plain": [
              "[<matplotlib.lines.Line2D at 0x7f768c67bc40>]"
            ]
          },
          "metadata": {},
          "execution_count": 31
        },
        {
          "output_type": "display_data",
          "data": {
            "text/plain": [
              "<Figure size 640x480 with 1 Axes>"
            ],
            "image/png": "[encoded data removed]"
          },
          "metadata": {}
        }
      ],
      "source": [
        "# x axis values\n",
        "x = [1,2,3,4,5]\n",
        "# corresponding y axis values\n",
        "y1 = [2,4,6,8,10]\n",
        "y2 = [0.5,1,1.5,2,2.5]\n",
        "y3 = [1,4,9,16,25]\n",
        "\n",
        "plt.plot(x, y1, label='y = 2x')\n",
        "plt.plot(x, y2, label='y = 0.5x')\n",
        "plt.plot(x, y3, label='y = x^2')"
      ]
    },
    {
      "cell_type": "markdown",
      "metadata": {
        "id": "CArAIjgv8vLv"
      },
      "source": [
        "#### **Problem #2.4.4**\n",
        "\n",
        "Using the following data, create a line plot. In addition:\n",
        "* Make line y1 brown and dashed, and make line y2 pink\n",
        "* Add a grid to the background\n",
        "* Add a legend\n",
        "* Make the title `X vs Y` in font `monospace` and in size 18\n"
      ]
    },
    {
      "cell_type": "code",
      "execution_count": 32,
      "metadata": {
        "id": "FwFLRWyN8vLw",
        "tags": [],
        "colab": {
          "base_uri": "https://localhost:8080/",
          "height": 448
        },
        "outputId": "c7821fad-1677-4c99-a255-04e9fc5df412"
      },
      "outputs": [
        {
          "output_type": "execute_result",
          "data": {
            "text/plain": [
              "[<matplotlib.lines.Line2D at 0x7f768c5306a0>]"
            ]
          },
          "metadata": {},
          "execution_count": 32
        },
        {
          "output_type": "display_data",
          "data": {
            "text/plain": [
              "<Figure size 640x480 with 1 Axes>"
            ],
            "image/png": "[encoded data removed]"
          },
          "metadata": {}
        }
      ],
      "source": [
        "# x axis values\n",
        "x = [1,2,3,4,5,6,7]\n",
        "# corresponding y axis values\n",
        "y1 = [9, 4, 6, 8, 22, 17, 13]\n",
        "y2 = [3, 5, 8, 12, 17, 23, 30]\n",
        "\n",
        "plt.plot(x, y1, label='y1 = Data 1')\n",
        "plt.plot(x, y2, label='y2 = Data 2')"
      ]
    },
    {
      "cell_type": "markdown",
      "metadata": {
        "id": "wtniW7m3xIw8"
      },
      "source": [
        "#### **Problem #2.4.5**\n",
        "\n",
        "Create a bar plot for the following data with the following:\n",
        "* One bar showing the number of females in the dataset and another bar showing the number of males in the dataset.\n",
        "* Bars labeled 'Female' and 'Male'.\n",
        "* The y-axis labeled 'Number in Dataset' with extra large font.\n",
        "* A title called \"Number of Males and Females in the Dataset\" with extra large font.\n",
        "\n",
        "<br>\n",
        "\n",
        "**Hint**: You will need to use pandas functions to get the count of males and females in the data frame."
      ]
    },
    {
      "cell_type": "code",
      "execution_count": 33,
      "metadata": {
        "colab": {
          "base_uri": "https://localhost:8080/",
          "height": 337
        },
        "id": "sIlQ3hR5yXJE",
        "outputId": "a98d0f82-1a62-486a-81f3-1bf87c66d24d"
      },
      "outputs": [
        {
          "output_type": "execute_result",
          "data": {
            "text/plain": [
              "              age         sex          cp    trestbps        chol         fbs  \\\n",
              "count  261.000000  261.000000  261.000000  261.000000  261.000000  261.000000   \n",
              "mean    47.770115    0.735632    3.003831  132.639847  248.823755    0.072797   \n",
              "std      7.842244    0.441843    0.970718   17.709857   65.667985    0.260302   \n",
              "min     28.000000    0.000000    1.000000   92.000000   85.000000    0.000000   \n",
              "25%     42.000000    0.000000    2.000000  120.000000  208.000000    0.000000   \n",
              "50%     49.000000    1.000000    3.000000  130.000000  242.000000    0.000000   \n",
              "75%     54.000000    1.000000    4.000000  140.000000  280.000000    0.000000   \n",
              "max     65.000000    1.000000    4.000000  200.000000  603.000000    1.000000   \n",
              "\n",
              "          restecg     thalach       exang     oldpeak  heart attack  \n",
              "count  261.000000  261.000000  261.000000  261.000000    261.000000  \n",
              "mean     0.226054  139.226054    0.318008    0.612261      0.375479  \n",
              "std      0.470935   23.757401    0.466597    0.931914      0.485177  \n",
              "min      0.000000   82.000000    0.000000    0.000000      0.000000  \n",
              "25%      0.000000  122.000000    0.000000    0.000000      0.000000  \n",
              "50%      0.000000  140.000000    0.000000    0.000000      0.000000  \n",
              "75%      0.000000  155.000000    1.000000    1.000000      1.000000  \n",
              "max      2.000000  190.000000    1.000000    5.000000      1.000000  "
            ],
            "text/html": [
              "\n",
              "  <div id=\"df-e2599971-a5bb-4ee8-9e1b-9e20802b4b54\" class=\"colab-df-container\">\n",
              "    <div>\n",
              "<style scoped>\n",
              "    .dataframe tbody tr th:only-of-type {\n",
              "        vertical-align: middle;\n",
              "    }\n",
              "\n",
              "    .dataframe tbody tr th {\n",
              "        vertical-align: top;\n",
              "    }\n",
              "\n",
              "    .dataframe thead th {\n",
              "        text-align: right;\n",
              "    }\n",
              "</style>\n",
              "<table border=\"1\" class=\"dataframe\">\n",
              "  <thead>\n",
              "    <tr style=\"text-align: right;\">\n",
              "      <th></th>\n",
              "      <th>age</th>\n",
              "      <th>sex</th>\n",
              "      <th>cp</th>\n",
              "      <th>trestbps</th>\n",
              "      <th>chol</th>\n",
              "      <th>fbs</th>\n",
              "      <th>restecg</th>\n",
              "      <th>thalach</th>\n",
              "      <th>exang</th>\n",
              "      <th>oldpeak</th>\n",
              "      <th>heart attack</th>\n",
              "    </tr>\n",
              "  </thead>\n",
              "  <tbody>\n",
              "    <tr>\n",
              "      <th>count</th>\n",
              "      <td>261.000000</td>\n",
              "      <td>261.000000</td>\n",
              "      <td>261.000000</td>\n",
              "      <td>261.000000</td>\n",
              "      <td>261.000000</td>\n",
              "      <td>261.000000</td>\n",
              "      <td>261.000000</td>\n",
              "      <td>261.000000</td>\n",
              "      <td>261.000000</td>\n",
              "      <td>261.000000</td>\n",
              "      <td>261.000000</td>\n",
              "    </tr>\n",
              "    <tr>\n",
              "      <th>mean</th>\n",
              "      <td>47.770115</td>\n",
              "      <td>0.735632</td>\n",
              "      <td>3.003831</td>\n",
              "      <td>132.639847</td>\n",
              "      <td>248.823755</td>\n",
              "      <td>0.072797</td>\n",
              "      <td>0.226054</td>\n",
              "      <td>139.226054</td>\n",
              "      <td>0.318008</td>\n",
              "      <td>0.612261</td>\n",
              "      <td>0.375479</td>\n",
              "    </tr>\n",
              "    <tr>\n",
              "      <th>std</th>\n",
              "      <td>7.842244</td>\n",
              "      <td>0.441843</td>\n",
              "      <td>0.970718</td>\n",
              "      <td>17.709857</td>\n",
              "      <td>65.667985</td>\n",
              "      <td>0.260302</td>\n",
              "      <td>0.470935</td>\n",
              "      <td>23.757401</td>\n",
              "      <td>0.466597</td>\n",
              "      <td>0.931914</td>\n",
              "      <td>0.485177</td>\n",
              "    </tr>\n",
              "    <tr>\n",
              "      <th>min</th>\n",
              "      <td>28.000000</td>\n",
              "      <td>0.000000</td>\n",
              "      <td>1.000000</td>\n",
              "      <td>92.000000</td>\n",
              "      <td>85.000000</td>\n",
              "      <td>0.000000</td>\n",
              "      <td>0.000000</td>\n",
              "      <td>82.000000</td>\n",
              "      <td>0.000000</td>\n",
              "      <td>0.000000</td>\n",
              "      <td>0.000000</td>\n",
              "    </tr>\n",
              "    <tr>\n",
              "      <th>25%</th>\n",
              "      <td>42.000000</td>\n",
              "      <td>0.000000</td>\n",
              "      <td>2.000000</td>\n",
              "      <td>120.000000</td>\n",
              "      <td>208.000000</td>\n",
              "      <td>0.000000</td>\n",
              "      <td>0.000000</td>\n",
              "      <td>122.000000</td>\n",
              "      <td>0.000000</td>\n",
              "      <td>0.000000</td>\n",
              "      <td>0.000000</td>\n",
              "    </tr>\n",
              "    <tr>\n",
              "      <th>50%</th>\n",
              "      <td>49.000000</td>\n",
              "      <td>1.000000</td>\n",
              "      <td>3.000000</td>\n",
              "      <td>130.000000</td>\n",
              "      <td>242.000000</td>\n",
              "      <td>0.000000</td>\n",
              "      <td>0.000000</td>\n",
              "      <td>140.000000</td>\n",
              "      <td>0.000000</td>\n",
              "      <td>0.000000</td>\n",
              "      <td>0.000000</td>\n",
              "    </tr>\n",
              "    <tr>\n",
              "      <th>75%</th>\n",
              "      <td>54.000000</td>\n",
              "      <td>1.000000</td>\n",
              "      <td>4.000000</td>\n",
              "      <td>140.000000</td>\n",
              "      <td>280.000000</td>\n",
              "      <td>0.000000</td>\n",
              "      <td>0.000000</td>\n",
              "      <td>155.000000</td>\n",
              "      <td>1.000000</td>\n",
              "      <td>1.000000</td>\n",
              "      <td>1.000000</td>\n",
              "    </tr>\n",
              "    <tr>\n",
              "      <th>max</th>\n",
              "      <td>65.000000</td>\n",
              "      <td>1.000000</td>\n",
              "      <td>4.000000</td>\n",
              "      <td>200.000000</td>\n",
              "      <td>603.000000</td>\n",
              "      <td>1.000000</td>\n",
              "      <td>2.000000</td>\n",
              "      <td>190.000000</td>\n",
              "      <td>1.000000</td>\n",
              "      <td>5.000000</td>\n",
              "      <td>1.000000</td>\n",
              "    </tr>\n",
              "  </tbody>\n",
              "</table>\n",
              "</div>\n",
              "    <div class=\"colab-df-buttons\">\n",
              "\n",
              "  <div class=\"colab-df-container\">\n",
              "    <button class=\"colab-df-convert\" onclick=\"convertToInteractive('df-e2599971-a5bb-4ee8-9e1b-9e20802b4b54')\"\n",
              "            title=\"Convert this dataframe to an interactive table.\"\n",
              "            style=\"display:none;\">\n",
              "\n",
              "  <svg xmlns=\"http://www.w3.org/2000/svg\" height=\"24px\" viewBox=\"0 -960 960 960\">\n",
              "    <path d=\"M120-120v-720h720v720H120Zm60-500h600v-160H180v160Zm220 220h160v-160H400v160Zm0 220h160v-160H400v160ZM180-400h160v-160H180v160Zm440 0h160v-160H620v160ZM180-180h160v-160H180v160Zm440 0h160v-160H620v160Z\"/>\n",
              "  </svg>\n",
              "    </button>\n",
              "\n",
              "  <style>\n",
              "    .colab-df-container {\n",
              "      display:flex;\n",
              "      gap: 12px;\n",
              "    }\n",
              "\n",
              "    .colab-df-convert {\n",
              "      background-color: #E8F0FE;\n",
              "      border: none;\n",
              "      border-radius: 50%;\n",
              "      cursor: pointer;\n",
              "      display: none;\n",
              "      fill: #1967D2;\n",
              "      height: 32px;\n",
              "      padding: 0 0 0 0;\n",
              "      width: 32px;\n",
              "    }\n",
              "\n",
              "    .colab-df-convert:hover {\n",
              "      background-color: #E2EBFA;\n",
              "      box-shadow: 0px 1px 2px rgba(60, 64, 67, 0.3), 0px 1px 3px 1px rgba(60, 64, 67, 0.15);\n",
              "      fill: #174EA6;\n",
              "    }\n",
              "\n",
              "    .colab-df-buttons div {\n",
              "      margin-bottom: 4px;\n",
              "    }\n",
              "\n",
              "    [theme=dark] .colab-df-convert {\n",
              "      background-color: #3B4455;\n",
              "      fill: #D2E3FC;\n",
              "    }\n",
              "\n",
              "    [theme=dark] .colab-df-convert:hover {\n",
              "      background-color: #434B5C;\n",
              "      box-shadow: 0px 1px 3px 1px rgba(0, 0, 0, 0.15);\n",
              "      filter: drop-shadow(0px 1px 2px rgba(0, 0, 0, 0.3));\n",
              "      fill: #FFFFFF;\n",
              "    }\n",
              "  </style>\n",
              "\n",
              "    <script>\n",
              "      const buttonEl =\n",
              "        document.querySelector('#df-e2599971-a5bb-4ee8-9e1b-9e20802b4b54 button.colab-df-convert');\n",
              "      buttonEl.style.display =\n",
              "        google.colab.kernel.accessAllowed ? 'block' : 'none';\n",
              "\n",
              "      async function convertToInteractive(key) {\n",
              "        const element = document.querySelector('#df-e2599971-a5bb-4ee8-9e1b-9e20802b4b54');\n",
              "        const dataTable =\n",
              "          await google.colab.kernel.invokeFunction('convertToInteractive',\n",
              "                                                    [key], {});\n",
              "        if (!dataTable) return;\n",
              "\n",
              "        const docLinkHtml = 'Like what you see? Visit the ' +\n",
              "          '<a target=\"_blank\" href=https://colab.research.google.com/notebooks/data_table.ipynb>data table notebook</a>'\n",
              "          + ' to learn more about interactive tables.';\n",
              "        element.innerHTML = '';\n",
              "        dataTable['output_type'] = 'display_data';\n",
              "        await google.colab.output.renderOutput(dataTable, element);\n",
              "        const docLink = document.createElement('div');\n",
              "        docLink.innerHTML = docLinkHtml;\n",
              "        element.appendChild(docLink);\n",
              "      }\n",
              "    </script>\n",
              "  </div>\n",
              "\n",
              "\n",
              "<div id=\"df-18d15733-35e0-4a54-a33b-8828ae674dd1\">\n",
              "  <button class=\"colab-df-quickchart\" onclick=\"quickchart('df-18d15733-35e0-4a54-a33b-8828ae674dd1')\"\n",
              "            title=\"Suggest charts\"\n",
              "            style=\"display:none;\">\n",
              "\n",
              "<svg xmlns=\"http://www.w3.org/2000/svg\" height=\"24px\"viewBox=\"0 0 24 24\"\n",
              "     width=\"24px\">\n",
              "    <g>\n",
              "        <path d=\"M19 3H5c-1.1 0-2 .9-2 2v14c0 1.1.9 2 2 2h14c1.1 0 2-.9 2-2V5c0-1.1-.9-2-2-2zM9 17H7v-7h2v7zm4 0h-2V7h2v10zm4 0h-2v-4h2v4z\"/>\n",
              "    </g>\n",
              "</svg>\n",
              "  </button>\n",
              "\n",
              "<style>\n",
              "  .colab-df-quickchart {\n",
              "      --bg-color: #E8F0FE;\n",
              "      --fill-color: #1967D2;\n",
              "      --hover-bg-color: #E2EBFA;\n",
              "      --hover-fill-color: #174EA6;\n",
              "      --disabled-fill-color: #AAA;\n",
              "      --disabled-bg-color: #DDD;\n",
              "  }\n",
              "\n",
              "  [theme=dark] .colab-df-quickchart {\n",
              "      --bg-color: #3B4455;\n",
              "      --fill-color: #D2E3FC;\n",
              "      --hover-bg-color: #434B5C;\n",
              "      --hover-fill-color: #FFFFFF;\n",
              "      --disabled-bg-color: #3B4455;\n",
              "      --disabled-fill-color: #666;\n",
              "  }\n",
              "\n",
              "  .colab-df-quickchart {\n",
              "    background-color: var(--bg-color);\n",
              "    border: none;\n",
              "    border-radius: 50%;\n",
              "    cursor: pointer;\n",
              "    display: none;\n",
              "    fill: var(--fill-color);\n",
              "    height: 32px;\n",
              "    padding: 0;\n",
              "    width: 32px;\n",
              "  }\n",
              "\n",
              "  .colab-df-quickchart:hover {\n",
              "    background-color: var(--hover-bg-color);\n",
              "    box-shadow: 0 1px 2px rgba(60, 64, 67, 0.3), 0 1px 3px 1px rgba(60, 64, 67, 0.15);\n",
              "    fill: var(--button-hover-fill-color);\n",
              "  }\n",
              "\n",
              "  .colab-df-quickchart-complete:disabled,\n",
              "  .colab-df-quickchart-complete:disabled:hover {\n",
              "    background-color: var(--disabled-bg-color);\n",
              "    fill: var(--disabled-fill-color);\n",
              "    box-shadow: none;\n",
              "  }\n",
              "\n",
              "  .colab-df-spinner {\n",
              "    border: 2px solid var(--fill-color);\n",
              "    border-color: transparent;\n",
              "    border-bottom-color: var(--fill-color);\n",
              "    animation:\n",
              "      spin 1s steps(1) infinite;\n",
              "  }\n",
              "\n",
              "  @keyframes spin {\n",
              "    0% {\n",
              "      border-color: transparent;\n",
              "      border-bottom-color: var(--fill-color);\n",
              "      border-left-color: var(--fill-color);\n",
              "    }\n",
              "    20% {\n",
              "      border-color: transparent;\n",
              "      border-left-color: var(--fill-color);\n",
              "      border-top-color: var(--fill-color);\n",
              "    }\n",
              "    30% {\n",
              "      border-color: transparent;\n",
              "      border-left-color: var(--fill-color);\n",
              "      border-top-color: var(--fill-color);\n",
              "      border-right-color: var(--fill-color);\n",
              "    }\n",
              "    40% {\n",
              "      border-color: transparent;\n",
              "      border-right-color: var(--fill-color);\n",
              "      border-top-color: var(--fill-color);\n",
              "    }\n",
              "    60% {\n",
              "      border-color: transparent;\n",
              "      border-right-color: var(--fill-color);\n",
              "    }\n",
              "    80% {\n",
              "      border-color: transparent;\n",
              "      border-right-color: var(--fill-color);\n",
              "      border-bottom-color: var(--fill-color);\n",
              "    }\n",
              "    90% {\n",
              "      border-color: transparent;\n",
              "      border-bottom-color: var(--fill-color);\n",
              "    }\n",
              "  }\n",
              "</style>\n",
              "\n",
              "  <script>\n",
              "    async function quickchart(key) {\n",
              "      const quickchartButtonEl =\n",
              "        document.querySelector('#' + key + ' button');\n",
              "      quickchartButtonEl.disabled = true;  // To prevent multiple clicks.\n",
              "      quickchartButtonEl.classList.add('colab-df-spinner');\n",
              "      try {\n",
              "        const charts = await google.colab.kernel.invokeFunction(\n",
              "            'suggestCharts', [key], {});\n",
              "      } catch (error) {\n",
              "        console.error('Error during call to suggestCharts:', error);\n",
              "      }\n",
              "      quickchartButtonEl.classList.remove('colab-df-spinner');\n",
              "      quickchartButtonEl.classList.add('colab-df-quickchart-complete');\n",
              "    }\n",
              "    (() => {\n",
              "      let quickchartButtonEl =\n",
              "        document.querySelector('#df-18d15733-35e0-4a54-a33b-8828ae674dd1 button');\n",
              "      quickchartButtonEl.style.display =\n",
              "        google.colab.kernel.accessAllowed ? 'block' : 'none';\n",
              "    })();\n",
              "  </script>\n",
              "</div>\n",
              "\n",
              "    </div>\n",
              "  </div>\n"
            ],
            "application/vnd.google.colaboratory.intrinsic+json": {
              "type": "dataframe",
              "summary": "{\n  \"name\": \"(df\",\n  \"rows\": 8,\n  \"fields\": [\n    {\n      \"column\": \"age\",\n      \"properties\": {\n        \"dtype\": \"number\",\n        \"std\": 79.37715220791301,\n        \"min\": 7.842244306062404,\n        \"max\": 261.0,\n        \"num_unique_values\": 8,\n        \"samples\": [\n          47.770114942528735,\n          49.0,\n          261.0\n        ],\n        \"semantic_type\": \"\",\n        \"description\": \"\"\n      }\n    },\n    {\n      \"column\": \"sex\",\n      \"properties\": {\n        \"dtype\": \"number\",\n        \"std\": 92.06740519469567,\n        \"min\": 0.0,\n        \"max\": 261.0,\n        \"num_unique_values\": 5,\n        \"samples\": [\n          0.735632183908046,\n          1.0,\n          0.44184325749182\n        ],\n        \"semantic_type\": \"\",\n        \"description\": \"\"\n      }\n    },\n    {\n      \"column\": \"cp\",\n      \"properties\": {\n        \"dtype\": \"number\",\n        \"std\": 91.37725210085227,\n        \"min\": 0.970717753049804,\n        \"max\": 261.0,\n        \"num_unique_values\": 7,\n        \"samples\": [\n          261.0,\n          3.003831417624521,\n          3.0\n        ],\n        \"semantic_type\": \"\",\n        \"description\": \"\"\n      }\n    },\n    {\n      \"column\": \"trestbps\",\n      \"properties\": {\n        \"dtype\": \"number\",\n        \"std\": 71.67911753573955,\n        \"min\": 17.709856620393165,\n        \"max\": 261.0,\n        \"num_unique_values\": 8,\n        \"samples\": [\n          132.639846743295,\n          130.0,\n          261.0\n        ],\n        \"semantic_type\": \"\",\n        \"description\": \"\"\n      }\n    },\n    {\n      \"column\": \"chol\",\n      \"properties\": {\n        \"dtype\": \"number\",\n        \"std\": 164.16776296061204,\n        \"min\": 65.66798461023764,\n        \"max\": 603.0,\n        \"num_unique_values\": 8,\n        \"samples\": [\n          248.82375478927204,\n          242.0,\n          261.0\n        ],\n        \"semantic_type\": \"\",\n        \"description\": \"\"\n      }\n    },\n    {\n      \"column\": \"fbs\",\n      \"properties\": {\n        \"dtype\": \"number\",\n        \"std\": 92.21073783532566,\n        \"min\": 0.0,\n        \"max\": 261.0,\n        \"num_unique_values\": 5,\n        \"samples\": [\n          0.07279693486590039,\n          1.0,\n          0.2603020304713201\n        ],\n        \"semantic_type\": \"\",\n        \"description\": \"\"\n      }\n    },\n    {\n      \"column\": \"restecg\",\n      \"properties\": {\n        \"dtype\": \"number\",\n        \"std\": 92.14372324013054,\n        \"min\": 0.0,\n        \"max\": 261.0,\n        \"num_unique_values\": 5,\n        \"samples\": [\n          0.2260536398467433,\n          2.0,\n          0.4709353836496467\n        ],\n        \"semantic_type\": \"\",\n        \"description\": \"\"\n      }\n    },\n    {\n      \"column\": \"thalach\",\n      \"properties\": {\n        \"dtype\": \"number\",\n        \"std\": 70.26560517757737,\n        \"min\": 23.757400695949062,\n        \"max\": 261.0,\n        \"num_unique_values\": 8,\n        \"samples\": [\n          139.22605363984675,\n          140.0,\n          261.0\n        ],\n        \"semantic_type\": \"\",\n        \"description\": \"\"\n      }\n    },\n    {\n      \"column\": \"exang\",\n      \"properties\": {\n        \"dtype\": \"number\",\n        \"std\": 92.13773007381991,\n        \"min\": 0.0,\n        \"max\": 261.0,\n        \"num_unique_values\": 5,\n        \"samples\": [\n          0.31800766283524906,\n          1.0,\n          0.4665971907358571\n        ],\n        \"semantic_type\": \"\",\n        \"description\": \"\"\n      }\n    },\n    {\n      \"column\": \"oldpeak\",\n      \"properties\": {\n        \"dtype\": \"number\",\n        \"std\": 91.91125112970312,\n        \"min\": 0.0,\n        \"max\": 261.0,\n        \"num_unique_values\": 6,\n        \"samples\": [\n          261.0,\n          0.6122605363984674,\n          5.0\n        ],\n        \"semantic_type\": \"\",\n        \"description\": \"\"\n      }\n    },\n    {\n      \"column\": \"heart attack\",\n      \"properties\": {\n        \"dtype\": \"number\",\n        \"std\": 92.13388602935015,\n        \"min\": 0.0,\n        \"max\": 261.0,\n        \"num_unique_values\": 5,\n        \"samples\": [\n          0.37547892720306514,\n          1.0,\n          0.4851766733489162\n        ],\n        \"semantic_type\": \"\",\n        \"description\": \"\"\n      }\n    }\n  ]\n}"
            }
          },
          "metadata": {},
          "execution_count": 33
        }
      ],
      "source": [
        "url = 'https://docs.google.com/spreadsheets/d/e/2PACX-1vSa0metcKBFqn-MHLn05vVGWONMlzljcWa-xIM1wJPXIa5kbrmIzGqmWcMh8eKG_ntByF9qqn6Mx3MT/pub?gid=1052859518&single=true&output=csv'\n",
        "df = pd.read_csv(url)\n",
        "df.head()\n",
        "(df.describe())"
      ]
    },
    {
      "cell_type": "markdown",
      "metadata": {
        "id": "dWREWbsVykUC"
      },
      "source": [
        "#### **Problem #2.4.6**\n",
        "\n",
        "Create a *grouped* bar plot for the following data with the following:\n",
        "* One bar graph showing the number of females with heart attacks and without in the dataset.\n",
        "* This bar graph should be labeled 'Female' for the legend.\n",
        "* Another bar graph showing the number of males with heart attacks and without in the dataset.\n",
        "* This bar graph should be labeled 'Male' for the legend.\n",
        "* Both bar graphs should be located on the x-axis and given a width to make the graph readable.\n",
        "* The y-axis labeled 'Number in Dataset' with extra large font.\n",
        "* A title called \"Breakdown of Heart Attacks by Sex\" with extra large font.\n",
        "\n",
        "<br>\n",
        "\n",
        "**Hint**: You will need to use pandas functions and comparisons to get the count of males and females with and without heart attacks in the data frame."
      ]
    },
    {
      "cell_type": "code",
      "execution_count": 34,
      "metadata": {
        "id": "FIMkkvVizT58",
        "colab": {
          "base_uri": "https://localhost:8080/",
          "height": 487
        },
        "outputId": "bd080ccb-567f-48eb-ee9f-b9e775f2163e"
      },
      "outputs": [
        {
          "output_type": "display_data",
          "data": {
            "text/plain": [
              "<Figure size 640x480 with 1 Axes>"
            ],
            "image/png": "[encoded data removed]"
          },
          "metadata": {}
        }
      ],
      "source": [
        "\n",
        "\n",
        "# Simulate a dataset with sex and heart attack occurrence\n",
        "data = {\n",
        "    \"sex\": [\"Male\", \"Female\", \"Male\", \"Female\", \"Male\", \"Female\", \"Male\", \"Female\", \"Male\", \"Female\"],\n",
        "    \"heart_attack\": [1, 0, 1, 1, 0, 0, 1, 1, 0, 0]  # 1 = Heart Attack, 0 = No Heart Attack\n",
        "}\n",
        "\n",
        "# Create a DataFrame\n",
        "df = pd.DataFrame(data)\n",
        "\n",
        "# Count occurrences for males and females with and without heart attacks\n",
        "male_counts = df[df[\"sex\"] == \"Male\"][\"heart_attack\"].value_counts()\n",
        "female_counts = df[df[\"sex\"] == \"Female\"][\"heart_attack\"].value_counts()\n",
        "\n",
        "# Align counts to ensure both categories (0 and 1) exist for plotting\n",
        "male_counts = male_counts.reindex([0, 1], fill_value=0)\n",
        "female_counts = female_counts.reindex([0, 1], fill_value=0)\n",
        "\n",
        "# Data for grouped bar plot\n",
        "labels = [\"No Heart Attack\", \"Heart Attack\"]\n",
        "x = range(len(labels))\n",
        "width = 0.4  # Width of the bars\n",
        "\n",
        "# Create the plot\n",
        "plt.bar(x, female_counts, width=width, label=\"Female\", color=\"pink\", align=\"center\")\n",
        "plt.bar([i + width for i in x], male_counts, width=width, label=\"Male\", color=\"blue\", align=\"center\")\n",
        "\n",
        "# Add title and labels\n",
        "plt.title(\"Breakdown of Heart Attacks by Sex\", fontsize=16)\n",
        "plt.xlabel(\"Heart Attack Status\")\n",
        "plt.ylabel(\"Number in Dataset\", fontsize=14)\n",
        "plt.xticks([i + width / 2 for i in x], labels)\n",
        "plt.legend()\n",
        "\n",
        "# Show the plot\n",
        "plt.tight_layout()\n",
        "plt.show()\n"
      ]
    },
    {
      "cell_type": "markdown",
      "metadata": {
        "id": "8Y87uet9b5qb"
      },
      "source": [
        "#### **Comment on this Dataset**\n",
        "\n",
        "This is an unfortunately common case of biased data, specifically *unbalanced data*, leading to potentially harmful results. We could attempt removing `'Sex'` as a feature to blind any ML models to the sex of the patient. However, bias often runs deeper than the most superficial variables and may be correlated with others in ways that humans and especially advanced ML algorithms can still pick up on. Consider some of the following ideas for improving on these results:\n",
        "\n",
        "* Using statistical methods for balancing the data. For instance, upsampling and downsampling are common first approaches to tackling this problem.\n",
        "\n",
        "* Find a dataset that is more balanced to begin with. In an ideal world, we would make sure that the data is balanced (representative) upon collection."
      ]
    },
    {
      "cell_type": "markdown",
      "metadata": {
        "id": "nAXXTiUVW_DM"
      },
      "source": [
        "<a name=\"p3\"></a>\n",
        "\n",
        "---\n",
        "## **Part 3: Linear Regression**\n",
        "---\n",
        "\n",
        "Using the  dataset, do the following:\n",
        "* Build a model that can predict the total number of bike rentals.\n",
        "* Use a different subset of features to build another model to predict the total number of bike rentals and compare the results.\n",
        "\n",
        "<br>\n",
        "\n",
        "The Bike Sharing dataset contains information about hourly bike rental data spanning two years, provided by a bike-sharing system in Washington, D.C. The dataset includes factors such as weather, date, time, and user information.\n",
        "\n",
        "The features are as follows:\n",
        "* `instant`: A unique identifier for each record in the dataset.\n",
        "* `dteday`: The date of the bike rental in the format yyyy-mm-dd.\n",
        "* `season`: The season of the year (1: spring, 2: summer, 3: fall, 4: winter).\n",
        "* `yr`: The year (0: 2011, 1: 2012).\n",
        "* `mnth`: The month of the year (1 to 12).\n",
        "* `hr`: The hour of the day (0 to 23).\n",
        "* `holiday`: A binary indicator of whether it is a holiday or not (0: not a holiday, 1: holiday).\n",
        "* `weekday`: The day of the week (0: Sunday, 1: Monday, ..., 6: Saturday).\n",
        "* `workingday`: A binary indicator of whether it is a working day or not (0: weekend or holiday, 1: working day).\n",
        "* `weathersit`: The weather situation (1: clear, 2: misty/foggy, 3: light rain/snow, 4: heavy rain/snow).\n",
        "* `temp`: The temperature in Celsius.\n",
        "* `atemp`: The \"feels like\" temperature in Celsius.\n",
        "* `hum`: The humidity level.\n",
        "* `windspeed`: The wind speed.\n",
        "* `casual`: The count of casual bike rentals.\n",
        "* `registered`: The count of registered bike rentals.\n",
        "* `cnt`: The total count of bike rentals (casual + registered)."
      ]
    },
    {
      "cell_type": "markdown",
      "metadata": {
        "id": "OqjbzvZ9OUWe"
      },
      "source": [
        "#### **Step #1: Load in Data**\n",
        "\n",
        "**Run the code below to load the data.**"
      ]
    },
    {
      "cell_type": "code",
      "execution_count": 35,
      "metadata": {
        "id": "K_PrS_AiB4Jz",
        "tags": []
      },
      "outputs": [],
      "source": [
        "# Import required libraries\n",
        "import urllib.request\n",
        "import zipfile\n",
        "\n",
        "# Download the zip file and extract the CSV file(s)\n",
        "url = \"https://archive.ics.uci.edu/ml/machine-learning-databases/00275/Bike-Sharing-Dataset.zip\"\n",
        "filename = \"Bike-Sharing-Dataset.zip\"\n",
        "urllib.request.urlretrieve(url, filename)\n",
        "with zipfile.ZipFile(filename, \"r\") as zip_ref:\n",
        "    zip_ref.extractall()\n",
        "\n",
        "# Read the CSV file(s) into Pandas dataframes\n",
        "hour_df = pd.read_csv(\"hour.csv\")\n",
        "day_df = pd.read_csv(\"day.csv\")\n",
        "\n",
        "# Combine the two dataframes into a single dataframe\n",
        "bikes_df = pd.concat([hour_df, day_df], ignore_index=True).drop(columns = ['instant', 'dteday', 'casual', 'hr'])\n",
        "\n",
        "\n"
      ]
    },
    {
      "cell_type": "markdown",
      "metadata": {
        "id": "_-Un9iSRFNKP"
      },
      "source": [
        "#### **Step #2: Choose your Variables**\n",
        "\n",
        "We are using all available features to predict `cnt`.\n"
      ]
    },
    {
      "cell_type": "code",
      "execution_count": 36,
      "metadata": {
        "id": "3w6YlXTflYLC",
        "tags": []
      },
      "outputs": [],
      "source": [
        "inputs = bikes_df.drop(columns=['cnt'], axis=1)  # Features (independent variables)\n",
        "output = bikes_df['cnt']  # Target variable (dependent variable)"
      ]
    },
    {
      "cell_type": "markdown",
      "metadata": {
        "id": "TqCPAlJmlNUv"
      },
      "source": [
        "#### **Step #3: Split your Data**\n"
      ]
    },
    {
      "cell_type": "code",
      "execution_count": 37,
      "metadata": {
        "id": "9Sm_Dda4lMS_",
        "tags": []
      },
      "outputs": [],
      "source": [
        "X_train, X_test, y_train, y_test = model_selection.train_test_split(inputs,output,test_size=0.2,random_state=42) # COMPLETE THIS CODE"
      ]
    },
    {
      "cell_type": "markdown",
      "metadata": {
        "id": "AR4pT5pjFOYI"
      },
      "source": [
        "#### **Step #4: Import an ML Algorithm**\n",
        "\n",
        "\n"
      ]
    },
    {
      "cell_type": "code",
      "execution_count": 38,
      "metadata": {
        "id": "04ZAKnPJ2lc3",
        "tags": [],
        "colab": {
          "base_uri": "https://localhost:8080/"
        },
        "outputId": "2eb24d87-10ce-4045-b7ce-479dba2ff86a"
      },
      "outputs": [
        {
          "output_type": "stream",
          "name": "stdout",
          "text": [
            "Model Coefficients: [ -3.41645318  -8.52439786  -0.56478625 -17.86745418   1.31893293\n",
            " -83.82467543   0.66013924  93.25510995  21.98629181 -34.34199683\n",
            " -15.98223448   1.22000943]\n",
            "Model Intercept: 40.68166986146821\n"
          ]
        }
      ],
      "source": [
        "from sklearn.linear_model import LinearRegression\n",
        "\n",
        "# Create an instance of the Linear Regression model\n",
        "model = LinearRegression()\n",
        "\n",
        "# Fit the model to the training data\n",
        "model.fit(inputs, output)\n",
        "\n",
        "# Print the model coefficients\n",
        "print(\"Model Coefficients:\", model.coef_)\n",
        "print(\"Model Intercept:\", model.intercept_)\n",
        "\n",
        "# Use the model to make predictions\n",
        "predictions = model.predict(inputs)"
      ]
    },
    {
      "cell_type": "markdown",
      "metadata": {
        "id": "7vxxRybDl-6h"
      },
      "source": [
        "#### **Step #5: Initialize the Model**\n"
      ]
    },
    {
      "cell_type": "code",
      "execution_count": 39,
      "metadata": {
        "id": "7Lg_OTRlmOdQ",
        "tags": [],
        "colab": {
          "base_uri": "https://localhost:8080/"
        },
        "outputId": "9a256485-089c-4a66-c789-4052d0cd8380"
      },
      "outputs": [
        {
          "output_type": "stream",
          "name": "stdout",
          "text": [
            "Model Coefficients: [ -3.41645318  -8.52439786  -0.56478625 -17.86745418   1.31893293\n",
            " -83.82467543   0.66013924  93.25510995  21.98629181 -34.34199683\n",
            " -15.98223448   1.22000943]\n",
            "Model Intercept: 40.68166986146821\n",
            "Predictions: [  62.02835217   83.35265742   77.25261028 ... 1474.3578856  1776.4245286\n",
            " 2737.33340108]\n"
          ]
        }
      ],
      "source": [
        "# Initialize the Linear Regression model\n",
        "model = LinearRegression()\n",
        "\n",
        "# Fit the model to the training data\n",
        "model.fit(inputs, output)\n",
        "\n",
        "# Output the model's coefficients and intercept\n",
        "print(\"Model Coefficients:\", model.coef_)\n",
        "print(\"Model Intercept:\", model.intercept_)\n",
        "\n",
        "# Make predictions using the model\n",
        "predictions = model.predict(inputs)\n",
        "print(\"Predictions:\", predictions)\n"
      ]
    },
    {
      "cell_type": "markdown",
      "metadata": {
        "id": "QGjMGgtol_GV"
      },
      "source": [
        "#### **Step #6: Fit, Test, and Visualize**\n"
      ]
    },
    {
      "cell_type": "code",
      "execution_count": 40,
      "metadata": {
        "id": "zXrul7JxmZCr",
        "tags": [],
        "colab": {
          "base_uri": "https://localhost:8080/",
          "height": 508
        },
        "outputId": "35774129-3931-4ebc-d827-bf4d91b52e2a"
      },
      "outputs": [
        {
          "output_type": "display_data",
          "data": {
            "text/plain": [
              "<Figure size 640x480 with 1 Axes>"
            ],
            "image/png": "[encoded data removed]"
          },
          "metadata": {}
        },
        {
          "output_type": "stream",
          "name": "stdout",
          "text": [
            "Mean Squared Error: 19319.804203060503\n",
            "R-squared: 0.9794778885664651\n"
          ]
        }
      ],
      "source": [
        "\n",
        "\n",
        "# Split the data into training and testing sets\n",
        "X_train, X_test, y_train, y_test = train_test_split(inputs, output, test_size=0.2, random_state=42)\n",
        "\n",
        "# Step 6.1: Fit the Model\n",
        "model = LinearRegression()\n",
        "model.fit(X_train, y_train)\n",
        "\n",
        "# Step 6.2: Test the Model\n",
        "# Make predictions on the test set\n",
        "y_pred = model.predict(X_test)\n",
        "\n",
        "# Step 6.3: Visualize Results\n",
        "# Scatter plot for actual vs predicted\n",
        "plt.scatter(y_test, y_pred, color='blue')\n",
        "plt.plot([y_test.min(), y_test.max()], [y_test.min(), y_test.max()], color='red', lw=2)  # Line y=x for reference\n",
        "plt.title('Actual vs Predicted')\n",
        "plt.xlabel('Actual Values')\n",
        "plt.ylabel('Predicted Values')\n",
        "plt.grid()\n",
        "plt.show()\n",
        "\n",
        "# Step 6.4: Evaluate the Model\n",
        "mse = mean_squared_error(y_test, y_pred)\n",
        "r2 = r2_score(y_test, y_pred)\n",
        "print(f\"Mean Squared Error: {mse}\")\n",
        "print(f\"R-squared: {r2}\")\n"
      ]
    },
    {
      "cell_type": "code",
      "execution_count": 41,
      "metadata": {
        "id": "SJT-4r673-V3",
        "tags": []
      },
      "outputs": [],
      "source": [
        "predictions = y_pred = model.predict(X_test)"
      ]
    },
    {
      "cell_type": "code",
      "execution_count": 42,
      "metadata": {
        "id": "TqRb8KGJDLyr",
        "tags": [],
        "colab": {
          "base_uri": "https://localhost:8080/",
          "height": 53
        },
        "outputId": "bd44200c-00ab-49db-a986-cfb2e2b81b15"
      },
      "outputs": [
        {
          "output_type": "execute_result",
          "data": {
            "text/plain": [
              "<Figure size 800x800 with 0 Axes>"
            ]
          },
          "metadata": {},
          "execution_count": 42
        },
        {
          "output_type": "display_data",
          "data": {
            "text/plain": [
              "<Figure size 800x800 with 0 Axes>"
            ]
          },
          "metadata": {}
        }
      ],
      "source": [
        "plt.figure(figsize=(8, 8))\n",
        "\n"
      ]
    },
    {
      "cell_type": "markdown",
      "metadata": {
        "id": "tEjc9FYpFPXe"
      },
      "source": [
        "#### **Step #7: Evaluate**\n",
        "\n",
        "Let's evaluate this model and put it to the test! Specifically, evaluate the model using our standard regression metrics: $R^2$, MSE, and MAE.\n"
      ]
    },
    {
      "cell_type": "code",
      "execution_count": 43,
      "metadata": {
        "id": "I3-wwjqQ4kGe",
        "tags": [],
        "colab": {
          "base_uri": "https://localhost:8080/"
        },
        "outputId": "82cfd7a9-8480-49a6-9ded-09596776ba6e"
      },
      "outputs": [
        {
          "output_type": "stream",
          "name": "stdout",
          "text": [
            "R-squared (R2): 0.9795\n",
            "Mean Squared Error (MSE): 19319.8042\n",
            "Mean Absolute Error (MAE): 50.6822\n"
          ]
        }
      ],
      "source": [
        "from sklearn.metrics import mean_squared_error, mean_absolute_error, r2_score\n",
        "\n",
        "# Evaluate the model using R2, MSE, and MAE\n",
        "r2 = r2_score(y_test, y_pred)\n",
        "mse = mean_squared_error(y_test, y_pred)\n",
        "mae = mean_absolute_error(y_test, y_pred)\n",
        "\n",
        "# Print evaluation metrics\n",
        "print(f\"R-squared (R2): {r2:.4f}\")\n",
        "print(f\"Mean Squared Error (MSE): {mse:.4f}\")\n",
        "print(f\"Mean Absolute Error (MAE): {mae:.4f}\")\n",
        "\n"
      ]
    },
    {
      "cell_type": "markdown",
      "metadata": {
        "id": "p5tQtCwufJPr"
      },
      "source": [
        "#### **Step #1: Load in Data**\n",
        "\n",
        "**Run the code below to load the data.**"
      ]
    },
    {
      "cell_type": "code",
      "execution_count": 44,
      "metadata": {
        "colab": {
          "base_uri": "https://localhost:8080/",
          "height": 206
        },
        "id": "WtSg7z-3fJPr",
        "outputId": "ae81ec88-95c2-4de7-ff55-6f09cbc57284",
        "tags": []
      },
      "outputs": [
        {
          "output_type": "execute_result",
          "data": {
            "text/plain": [
              "   temperature  brightness    size  color      class\n",
              "0         3068    0.002400  0.1700      8  red dwarf\n",
              "1         3042    0.000500  0.1542      8  red dwarf\n",
              "2         2600    0.000300  0.1020      8  red dwarf\n",
              "3         2800    0.000200  0.1600      8  red dwarf\n",
              "4         1939    0.000138  0.1030      8  red dwarf"
            ],
            "text/html": [
              "\n",
              "  <div id=\"df-02f66d8f-efcb-4f49-8f86-af7fd9692f67\" class=\"colab-df-container\">\n",
              "    <div>\n",
              "<style scoped>\n",
              "    .dataframe tbody tr th:only-of-type {\n",
              "        vertical-align: middle;\n",
              "    }\n",
              "\n",
              "    .dataframe tbody tr th {\n",
              "        vertical-align: top;\n",
              "    }\n",
              "\n",
              "    .dataframe thead th {\n",
              "        text-align: right;\n",
              "    }\n",
              "</style>\n",
              "<table border=\"1\" class=\"dataframe\">\n",
              "  <thead>\n",
              "    <tr style=\"text-align: right;\">\n",
              "      <th></th>\n",
              "      <th>temperature</th>\n",
              "      <th>brightness</th>\n",
              "      <th>size</th>\n",
              "      <th>color</th>\n",
              "      <th>class</th>\n",
              "    </tr>\n",
              "  </thead>\n",
              "  <tbody>\n",
              "    <tr>\n",
              "      <th>0</th>\n",
              "      <td>3068</td>\n",
              "      <td>0.002400</td>\n",
              "      <td>0.1700</td>\n",
              "      <td>8</td>\n",
              "      <td>red dwarf</td>\n",
              "    </tr>\n",
              "    <tr>\n",
              "      <th>1</th>\n",
              "      <td>3042</td>\n",
              "      <td>0.000500</td>\n",
              "      <td>0.1542</td>\n",
              "      <td>8</td>\n",
              "      <td>red dwarf</td>\n",
              "    </tr>\n",
              "    <tr>\n",
              "      <th>2</th>\n",
              "      <td>2600</td>\n",
              "      <td>0.000300</td>\n",
              "      <td>0.1020</td>\n",
              "      <td>8</td>\n",
              "      <td>red dwarf</td>\n",
              "    </tr>\n",
              "    <tr>\n",
              "      <th>3</th>\n",
              "      <td>2800</td>\n",
              "      <td>0.000200</td>\n",
              "      <td>0.1600</td>\n",
              "      <td>8</td>\n",
              "      <td>red dwarf</td>\n",
              "    </tr>\n",
              "    <tr>\n",
              "      <th>4</th>\n",
              "      <td>1939</td>\n",
              "      <td>0.000138</td>\n",
              "      <td>0.1030</td>\n",
              "      <td>8</td>\n",
              "      <td>red dwarf</td>\n",
              "    </tr>\n",
              "  </tbody>\n",
              "</table>\n",
              "</div>\n",
              "    <div class=\"colab-df-buttons\">\n",
              "\n",
              "  <div class=\"colab-df-container\">\n",
              "    <button class=\"colab-df-convert\" onclick=\"convertToInteractive('df-02f66d8f-efcb-4f49-8f86-af7fd9692f67')\"\n",
              "            title=\"Convert this dataframe to an interactive table.\"\n",
              "            style=\"display:none;\">\n",
              "\n",
              "  <svg xmlns=\"http://www.w3.org/2000/svg\" height=\"24px\" viewBox=\"0 -960 960 960\">\n",
              "    <path d=\"M120-120v-720h720v720H120Zm60-500h600v-160H180v160Zm220 220h160v-160H400v160Zm0 220h160v-160H400v160ZM180-400h160v-160H180v160Zm440 0h160v-160H620v160ZM180-180h160v-160H180v160Zm440 0h160v-160H620v160Z\"/>\n",
              "  </svg>\n",
              "    </button>\n",
              "\n",
              "  <style>\n",
              "    .colab-df-container {\n",
              "      display:flex;\n",
              "      gap: 12px;\n",
              "    }\n",
              "\n",
              "    .colab-df-convert {\n",
              "      background-color: #E8F0FE;\n",
              "      border: none;\n",
              "      border-radius: 50%;\n",
              "      cursor: pointer;\n",
              "      display: none;\n",
              "      fill: #1967D2;\n",
              "      height: 32px;\n",
              "      padding: 0 0 0 0;\n",
              "      width: 32px;\n",
              "    }\n",
              "\n",
              "    .colab-df-convert:hover {\n",
              "      background-color: #E2EBFA;\n",
              "      box-shadow: 0px 1px 2px rgba(60, 64, 67, 0.3), 0px 1px 3px 1px rgba(60, 64, 67, 0.15);\n",
              "      fill: #174EA6;\n",
              "    }\n",
              "\n",
              "    .colab-df-buttons div {\n",
              "      margin-bottom: 4px;\n",
              "    }\n",
              "\n",
              "    [theme=dark] .colab-df-convert {\n",
              "      background-color: #3B4455;\n",
              "      fill: #D2E3FC;\n",
              "    }\n",
              "\n",
              "    [theme=dark] .colab-df-convert:hover {\n",
              "      background-color: #434B5C;\n",
              "      box-shadow: 0px 1px 3px 1px rgba(0, 0, 0, 0.15);\n",
              "      filter: drop-shadow(0px 1px 2px rgba(0, 0, 0, 0.3));\n",
              "      fill: #FFFFFF;\n",
              "    }\n",
              "  </style>\n",
              "\n",
              "    <script>\n",
              "      const buttonEl =\n",
              "        document.querySelector('#df-02f66d8f-efcb-4f49-8f86-af7fd9692f67 button.colab-df-convert');\n",
              "      buttonEl.style.display =\n",
              "        google.colab.kernel.accessAllowed ? 'block' : 'none';\n",
              "\n",
              "      async function convertToInteractive(key) {\n",
              "        const element = document.querySelector('#df-02f66d8f-efcb-4f49-8f86-af7fd9692f67');\n",
              "        const dataTable =\n",
              "          await google.colab.kernel.invokeFunction('convertToInteractive',\n",
              "                                                    [key], {});\n",
              "        if (!dataTable) return;\n",
              "\n",
              "        const docLinkHtml = 'Like what you see? Visit the ' +\n",
              "          '<a target=\"_blank\" href=https://colab.research.google.com/notebooks/data_table.ipynb>data table notebook</a>'\n",
              "          + ' to learn more about interactive tables.';\n",
              "        element.innerHTML = '';\n",
              "        dataTable['output_type'] = 'display_data';\n",
              "        await google.colab.output.renderOutput(dataTable, element);\n",
              "        const docLink = document.createElement('div');\n",
              "        docLink.innerHTML = docLinkHtml;\n",
              "        element.appendChild(docLink);\n",
              "      }\n",
              "    </script>\n",
              "  </div>\n",
              "\n",
              "\n",
              "<div id=\"df-43165787-b718-475c-a6fd-a774f88b873e\">\n",
              "  <button class=\"colab-df-quickchart\" onclick=\"quickchart('df-43165787-b718-475c-a6fd-a774f88b873e')\"\n",
              "            title=\"Suggest charts\"\n",
              "            style=\"display:none;\">\n",
              "\n",
              "<svg xmlns=\"http://www.w3.org/2000/svg\" height=\"24px\"viewBox=\"0 0 24 24\"\n",
              "     width=\"24px\">\n",
              "    <g>\n",
              "        <path d=\"M19 3H5c-1.1 0-2 .9-2 2v14c0 1.1.9 2 2 2h14c1.1 0 2-.9 2-2V5c0-1.1-.9-2-2-2zM9 17H7v-7h2v7zm4 0h-2V7h2v10zm4 0h-2v-4h2v4z\"/>\n",
              "    </g>\n",
              "</svg>\n",
              "  </button>\n",
              "\n",
              "<style>\n",
              "  .colab-df-quickchart {\n",
              "      --bg-color: #E8F0FE;\n",
              "      --fill-color: #1967D2;\n",
              "      --hover-bg-color: #E2EBFA;\n",
              "      --hover-fill-color: #174EA6;\n",
              "      --disabled-fill-color: #AAA;\n",
              "      --disabled-bg-color: #DDD;\n",
              "  }\n",
              "\n",
              "  [theme=dark] .colab-df-quickchart {\n",
              "      --bg-color: #3B4455;\n",
              "      --fill-color: #D2E3FC;\n",
              "      --hover-bg-color: #434B5C;\n",
              "      --hover-fill-color: #FFFFFF;\n",
              "      --disabled-bg-color: #3B4455;\n",
              "      --disabled-fill-color: #666;\n",
              "  }\n",
              "\n",
              "  .colab-df-quickchart {\n",
              "    background-color: var(--bg-color);\n",
              "    border: none;\n",
              "    border-radius: 50%;\n",
              "    cursor: pointer;\n",
              "    display: none;\n",
              "    fill: var(--fill-color);\n",
              "    height: 32px;\n",
              "    padding: 0;\n",
              "    width: 32px;\n",
              "  }\n",
              "\n",
              "  .colab-df-quickchart:hover {\n",
              "    background-color: var(--hover-bg-color);\n",
              "    box-shadow: 0 1px 2px rgba(60, 64, 67, 0.3), 0 1px 3px 1px rgba(60, 64, 67, 0.15);\n",
              "    fill: var(--button-hover-fill-color);\n",
              "  }\n",
              "\n",
              "  .colab-df-quickchart-complete:disabled,\n",
              "  .colab-df-quickchart-complete:disabled:hover {\n",
              "    background-color: var(--disabled-bg-color);\n",
              "    fill: var(--disabled-fill-color);\n",
              "    box-shadow: none;\n",
              "  }\n",
              "\n",
              "  .colab-df-spinner {\n",
              "    border: 2px solid var(--fill-color);\n",
              "    border-color: transparent;\n",
              "    border-bottom-color: var(--fill-color);\n",
              "    animation:\n",
              "      spin 1s steps(1) infinite;\n",
              "  }\n",
              "\n",
              "  @keyframes spin {\n",
              "    0% {\n",
              "      border-color: transparent;\n",
              "      border-bottom-color: var(--fill-color);\n",
              "      border-left-color: var(--fill-color);\n",
              "    }\n",
              "    20% {\n",
              "      border-color: transparent;\n",
              "      border-left-color: var(--fill-color);\n",
              "      border-top-color: var(--fill-color);\n",
              "    }\n",
              "    30% {\n",
              "      border-color: transparent;\n",
              "      border-left-color: var(--fill-color);\n",
              "      border-top-color: var(--fill-color);\n",
              "      border-right-color: var(--fill-color);\n",
              "    }\n",
              "    40% {\n",
              "      border-color: transparent;\n",
              "      border-right-color: var(--fill-color);\n",
              "      border-top-color: var(--fill-color);\n",
              "    }\n",
              "    60% {\n",
              "      border-color: transparent;\n",
              "      border-right-color: var(--fill-color);\n",
              "    }\n",
              "    80% {\n",
              "      border-color: transparent;\n",
              "      border-right-color: var(--fill-color);\n",
              "      border-bottom-color: var(--fill-color);\n",
              "    }\n",
              "    90% {\n",
              "      border-color: transparent;\n",
              "      border-bottom-color: var(--fill-color);\n",
              "    }\n",
              "  }\n",
              "</style>\n",
              "\n",
              "  <script>\n",
              "    async function quickchart(key) {\n",
              "      const quickchartButtonEl =\n",
              "        document.querySelector('#' + key + ' button');\n",
              "      quickchartButtonEl.disabled = true;  // To prevent multiple clicks.\n",
              "      quickchartButtonEl.classList.add('colab-df-spinner');\n",
              "      try {\n",
              "        const charts = await google.colab.kernel.invokeFunction(\n",
              "            'suggestCharts', [key], {});\n",
              "      } catch (error) {\n",
              "        console.error('Error during call to suggestCharts:', error);\n",
              "      }\n",
              "      quickchartButtonEl.classList.remove('colab-df-spinner');\n",
              "      quickchartButtonEl.classList.add('colab-df-quickchart-complete');\n",
              "    }\n",
              "    (() => {\n",
              "      let quickchartButtonEl =\n",
              "        document.querySelector('#df-43165787-b718-475c-a6fd-a774f88b873e button');\n",
              "      quickchartButtonEl.style.display =\n",
              "        google.colab.kernel.accessAllowed ? 'block' : 'none';\n",
              "    })();\n",
              "  </script>\n",
              "</div>\n",
              "\n",
              "    </div>\n",
              "  </div>\n"
            ],
            "application/vnd.google.colaboratory.intrinsic+json": {
              "type": "dataframe",
              "variable_name": "stars_df",
              "summary": "{\n  \"name\": \"stars_df\",\n  \"rows\": 240,\n  \"fields\": [\n    {\n      \"column\": \"temperature\",\n      \"properties\": {\n        \"dtype\": \"number\",\n        \"std\": 9552,\n        \"min\": 1939,\n        \"max\": 40000,\n        \"num_unique_values\": 228,\n        \"samples\": [\n          10930,\n          3345,\n          3600\n        ],\n        \"semantic_type\": \"\",\n        \"description\": \"\"\n      }\n    },\n    {\n      \"column\": \"brightness\",\n      \"properties\": {\n        \"dtype\": \"number\",\n        \"std\": 179432.2449402145,\n        \"min\": 8e-05,\n        \"max\": 849420.0,\n        \"num_unique_values\": 208,\n        \"samples\": [\n          0.000957,\n          0.0018,\n          0.00135\n        ],\n        \"semantic_type\": \"\",\n        \"description\": \"\"\n      }\n    },\n    {\n      \"column\": \"size\",\n      \"properties\": {\n        \"dtype\": \"number\",\n        \"std\": 517.1557634028478,\n        \"min\": 0.0084,\n        \"max\": 1948.5,\n        \"num_unique_values\": 216,\n        \"samples\": [\n          81.0,\n          1423.0,\n          5.92\n        ],\n        \"semantic_type\": \"\",\n        \"description\": \"\"\n      }\n    },\n    {\n      \"column\": \"color\",\n      \"properties\": {\n        \"dtype\": \"number\",\n        \"std\": 4,\n        \"min\": 0,\n        \"max\": 16,\n        \"num_unique_values\": 17,\n        \"samples\": [\n          8,\n          1,\n          7\n        ],\n        \"semantic_type\": \"\",\n        \"description\": \"\"\n      }\n    },\n    {\n      \"column\": \"class\",\n      \"properties\": {\n        \"dtype\": \"category\",\n        \"num_unique_values\": 6,\n        \"samples\": [\n          \"red dwarf\",\n          \"brown dwarf\",\n          \"hyper giant\"\n        ],\n        \"semantic_type\": \"\",\n        \"description\": \"\"\n      }\n    }\n  ]\n}"
            }
          },
          "metadata": {},
          "execution_count": 44
        }
      ],
      "source": [
        "url = 'https://docs.google.com/spreadsheets/d/e/2PACX-1vTCZgoegOHa49SFXYU-ZZTdCkgTp0sneU1BsEOa7vusjTXPPLcn0i3kXhX1nyqkApJHCKTkw0mWuWr4/pub?gid=753880827&single=true&output=csv'\n",
        "stars_df = pd.read_csv(url)\n",
        "\n",
        "# Convert class values to more meaningful labels\n",
        "star_map = {0: 'red dwarf', 1: 'brown dwarf', 2: 'white dwarf', 3: 'main sequence', 4: 'super giant', 5: 'hyper giant'}\n",
        "stars_df['class'] = stars_df['class'].map(star_map)\n",
        "\n",
        "# Encode color feature so we can use it in our modeling\n",
        "from sklearn.preprocessing import OrdinalEncoder\n",
        "enc = OrdinalEncoder()\n",
        "stars_df['color'] = enc.fit_transform(stars_df[['color']]).astype(int)\n",
        "\n",
        "\n",
        "\n",
        "stars_df.head()"
      ]
    },
    {
      "cell_type": "markdown",
      "metadata": {
        "id": "QFGDY2skfJPs"
      },
      "source": [
        "#### **Step #2: Choose your Variables**\n",
        "\n"
      ]
    },
    {
      "cell_type": "code",
      "execution_count": 45,
      "metadata": {
        "id": "k-JjG229fJPs",
        "tags": [],
        "colab": {
          "base_uri": "https://localhost:8080/"
        },
        "outputId": "3f6f2df1-5450-4091-8325-13c4989fe74e"
      },
      "outputs": [
        {
          "output_type": "stream",
          "name": "stdout",
          "text": [
            "   temperature  brightness    size  color\n",
            "0         3068    0.002400  0.1700      8\n",
            "1         3042    0.000500  0.1542      8\n",
            "2         2600    0.000300  0.1020      8\n",
            "3         2800    0.000200  0.1600      8\n",
            "4         1939    0.000138  0.1030      8\n"
          ]
        }
      ],
      "source": [
        "# Separate inputs and output\n",
        "inputs = stars_df.drop(columns=['class'], axis=1)  # Independent variables (features)\n",
        "output = stars_df['class']  # Dependent variable (target)\n",
        "\n",
        "# Display the inputs\n",
        "print(inputs.head())\n"
      ]
    },
    {
      "cell_type": "markdown",
      "metadata": {
        "id": "HbEr0TBEfJPs"
      },
      "source": [
        "#### **Step #3: Split your Data**\n"
      ]
    },
    {
      "cell_type": "code",
      "execution_count": 46,
      "metadata": {
        "id": "BiI_7n98fJPs",
        "tags": []
      },
      "outputs": [],
      "source": [
        "X_train, X_test, y_train, y_test = model_selection.train_test_split(inputs,output,test_size=0.2,random_state=42) # COMPLETE THIS CODE# COMPLETE THIS CODE"
      ]
    },
    {
      "cell_type": "markdown",
      "metadata": {
        "id": "AyBDIqqGfJPs"
      },
      "source": [
        "#### **Step #4: Import an ML Algorithm**\n",
        "\n",
        "\n"
      ]
    },
    {
      "cell_type": "code",
      "execution_count": 47,
      "metadata": {
        "id": "3zUWy-C-fJPs",
        "tags": [],
        "colab": {
          "base_uri": "https://localhost:8080/"
        },
        "outputId": "9b5ea551-9c47-4252-b62a-63ec5891fb78"
      },
      "outputs": [
        {
          "output_type": "stream",
          "name": "stdout",
          "text": [
            "Accuracy: 0.6667\n",
            "\n",
            "Classification Report:\n",
            "               precision    recall  f1-score   support\n",
            "\n",
            "  brown dwarf       0.80      0.57      0.67         7\n",
            "  hyper giant       0.50      0.45      0.48        11\n",
            "main sequence       1.00      0.88      0.93         8\n",
            "    red dwarf       0.70      0.88      0.78         8\n",
            "  super giant       0.33      0.38      0.35         8\n",
            "  white dwarf       0.86      1.00      0.92         6\n",
            "\n",
            "     accuracy                           0.67        48\n",
            "    macro avg       0.70      0.69      0.69        48\n",
            " weighted avg       0.68      0.67      0.67        48\n",
            "\n"
          ]
        }
      ],
      "source": [
        "from sklearn.neighbors import KNeighborsClassifier\n",
        "from sklearn.model_selection import train_test_split\n",
        "from sklearn.metrics import accuracy_score, classification_report\n",
        "\n",
        "# Split the data into training and testing sets\n",
        "X_train, X_test, y_train, y_test = train_test_split(inputs, output, test_size=0.2, random_state=42)\n",
        "\n",
        "# Initialize the K-Nearest Neighbors Classifier\n",
        "knn_model = KNeighborsClassifier(n_neighbors=5)  # Default number of neighbors is 5\n",
        "\n",
        "# Fit the model to the training data\n",
        "knn_model.fit(X_train, y_train)\n",
        "\n",
        "# Make predictions on the test set\n",
        "y_pred = knn_model.predict(X_test)\n",
        "\n",
        "# Evaluate the model\n",
        "accuracy = accuracy_score(y_test, y_pred)\n",
        "print(f\"Accuracy: {accuracy:.4f}\")\n",
        "print(\"\\nClassification Report:\")\n",
        "print(classification_report(y_test, y_pred))\n"
      ]
    },
    {
      "cell_type": "markdown",
      "metadata": {
        "id": "q4tlM_dQfJPt"
      },
      "source": [
        "#### **Step #5: Initialize the Model**\n",
        "\n",
        "Use K = 5 here."
      ]
    },
    {
      "cell_type": "code",
      "execution_count": 48,
      "metadata": {
        "id": "NrqbrvqmfJPt",
        "tags": []
      },
      "outputs": [],
      "source": [
        "model = KNeighborsClassifier(n_neighbors=5)# COMPLETE THIS CODE"
      ]
    },
    {
      "cell_type": "markdown",
      "metadata": {
        "id": "dwsTR3NBfJPt"
      },
      "source": [
        "#### **Step #6: Fit and Test**\n"
      ]
    },
    {
      "cell_type": "code",
      "execution_count": 49,
      "metadata": {
        "id": "nFEKlifHfJPt",
        "tags": [],
        "outputId": "25bd56b9-b188-4cd2-9fb1-b02e871bcfae",
        "colab": {
          "base_uri": "https://localhost:8080/",
          "height": 80
        }
      },
      "outputs": [
        {
          "output_type": "execute_result",
          "data": {
            "text/plain": [
              "KNeighborsClassifier()"
            ],
            "text/html": [
              "<style>#sk-container-id-1 {\n",
              "  /* Definition of color scheme common for light and dark mode */\n",
              "  --sklearn-color-text: black;\n",
              "  --sklearn-color-line: gray;\n",
              "  /* Definition of color scheme for unfitted estimators */\n",
              "  --sklearn-color-unfitted-level-0: #fff5e6;\n",
              "  --sklearn-color-unfitted-level-1: #f6e4d2;\n",
              "  --sklearn-color-unfitted-level-2: #ffe0b3;\n",
              "  --sklearn-color-unfitted-level-3: chocolate;\n",
              "  /* Definition of color scheme for fitted estimators */\n",
              "  --sklearn-color-fitted-level-0: #f0f8ff;\n",
              "  --sklearn-color-fitted-level-1: #d4ebff;\n",
              "  --sklearn-color-fitted-level-2: #b3dbfd;\n",
              "  --sklearn-color-fitted-level-3: cornflowerblue;\n",
              "\n",
              "  /* Specific color for light theme */\n",
              "  --sklearn-color-text-on-default-background: var(--sg-text-color, var(--theme-code-foreground, var(--jp-content-font-color1, black)));\n",
              "  --sklearn-color-background: var(--sg-background-color, var(--theme-background, var(--jp-layout-color0, white)));\n",
              "  --sklearn-color-border-box: var(--sg-text-color, var(--theme-code-foreground, var(--jp-content-font-color1, black)));\n",
              "  --sklearn-color-icon: #696969;\n",
              "\n",
              "  @media (prefers-color-scheme: dark) {\n",
              "    /* Redefinition of color scheme for dark theme */\n",
              "    --sklearn-color-text-on-default-background: var(--sg-text-color, var(--theme-code-foreground, var(--jp-content-font-color1, white)));\n",
              "    --sklearn-color-background: var(--sg-background-color, var(--theme-background, var(--jp-layout-color0, #111)));\n",
              "    --sklearn-color-border-box: var(--sg-text-color, var(--theme-code-foreground, var(--jp-content-font-color1, white)));\n",
              "    --sklearn-color-icon: #878787;\n",
              "  }\n",
              "}\n",
              "\n",
              "#sk-container-id-1 {\n",
              "  color: var(--sklearn-color-text);\n",
              "}\n",
              "\n",
              "#sk-container-id-1 pre {\n",
              "  padding: 0;\n",
              "}\n",
              "\n",
              "#sk-container-id-1 input.sk-hidden--visually {\n",
              "  border: 0;\n",
              "  clip: rect(1px 1px 1px 1px);\n",
              "  clip: rect(1px, 1px, 1px, 1px);\n",
              "  height: 1px;\n",
              "  margin: -1px;\n",
              "  overflow: hidden;\n",
              "  padding: 0;\n",
              "  position: absolute;\n",
              "  width: 1px;\n",
              "}\n",
              "\n",
              "#sk-container-id-1 div.sk-dashed-wrapped {\n",
              "  border: 1px dashed var(--sklearn-color-line);\n",
              "  margin: 0 0.4em 0.5em 0.4em;\n",
              "  box-sizing: border-box;\n",
              "  padding-bottom: 0.4em;\n",
              "  background-color: var(--sklearn-color-background);\n",
              "}\n",
              "\n",
              "#sk-container-id-1 div.sk-container {\n",
              "  /* jupyter's `normalize.less` sets `[hidden] { display: none; }`\n",
              "     but bootstrap.min.css set `[hidden] { display: none !important; }`\n",
              "     so we also need the `!important` here to be able to override the\n",
              "     default hidden behavior on the sphinx rendered scikit-learn.org.\n",
              "     See: https://github.com/scikit-learn/scikit-learn/issues/21755 */\n",
              "  display: inline-block !important;\n",
              "  position: relative;\n",
              "}\n",
              "\n",
              "#sk-container-id-1 div.sk-text-repr-fallback {\n",
              "  display: none;\n",
              "}\n",
              "\n",
              "div.sk-parallel-item,\n",
              "div.sk-serial,\n",
              "div.sk-item {\n",
              "  /* draw centered vertical line to link estimators */\n",
              "  background-image: linear-gradient(var(--sklearn-color-text-on-default-background), var(--sklearn-color-text-on-default-background));\n",
              "  background-size: 2px 100%;\n",
              "  background-repeat: no-repeat;\n",
              "  background-position: center center;\n",
              "}\n",
              "\n",
              "/* Parallel-specific style estimator block */\n",
              "\n",
              "#sk-container-id-1 div.sk-parallel-item::after {\n",
              "  content: \"\";\n",
              "  width: 100%;\n",
              "  border-bottom: 2px solid var(--sklearn-color-text-on-default-background);\n",
              "  flex-grow: 1;\n",
              "}\n",
              "\n",
              "#sk-container-id-1 div.sk-parallel {\n",
              "  display: flex;\n",
              "  align-items: stretch;\n",
              "  justify-content: center;\n",
              "  background-color: var(--sklearn-color-background);\n",
              "  position: relative;\n",
              "}\n",
              "\n",
              "#sk-container-id-1 div.sk-parallel-item {\n",
              "  display: flex;\n",
              "  flex-direction: column;\n",
              "}\n",
              "\n",
              "#sk-container-id-1 div.sk-parallel-item:first-child::after {\n",
              "  align-self: flex-end;\n",
              "  width: 50%;\n",
              "}\n",
              "\n",
              "#sk-container-id-1 div.sk-parallel-item:last-child::after {\n",
              "  align-self: flex-start;\n",
              "  width: 50%;\n",
              "}\n",
              "\n",
              "#sk-container-id-1 div.sk-parallel-item:only-child::after {\n",
              "  width: 0;\n",
              "}\n",
              "\n",
              "/* Serial-specific style estimator block */\n",
              "\n",
              "#sk-container-id-1 div.sk-serial {\n",
              "  display: flex;\n",
              "  flex-direction: column;\n",
              "  align-items: center;\n",
              "  background-color: var(--sklearn-color-background);\n",
              "  padding-right: 1em;\n",
              "  padding-left: 1em;\n",
              "}\n",
              "\n",
              "\n",
              "/* Toggleable style: style used for estimator/Pipeline/ColumnTransformer box that is\n",
              "clickable and can be expanded/collapsed.\n",
              "- Pipeline and ColumnTransformer use this feature and define the default style\n",
              "- Estimators will overwrite some part of the style using the `sk-estimator` class\n",
              "*/\n",
              "\n",
              "/* Pipeline and ColumnTransformer style (default) */\n",
              "\n",
              "#sk-container-id-1 div.sk-toggleable {\n",
              "  /* Default theme specific background. It is overwritten whether we have a\n",
              "  specific estimator or a Pipeline/ColumnTransformer */\n",
              "  background-color: var(--sklearn-color-background);\n",
              "}\n",
              "\n",
              "/* Toggleable label */\n",
              "#sk-container-id-1 label.sk-toggleable__label {\n",
              "  cursor: pointer;\n",
              "  display: block;\n",
              "  width: 100%;\n",
              "  margin-bottom: 0;\n",
              "  padding: 0.5em;\n",
              "  box-sizing: border-box;\n",
              "  text-align: center;\n",
              "}\n",
              "\n",
              "#sk-container-id-1 label.sk-toggleable__label-arrow:before {\n",
              "  /* Arrow on the left of the label */\n",
              "  content: \"▸\";\n",
              "  float: left;\n",
              "  margin-right: 0.25em;\n",
              "  color: var(--sklearn-color-icon);\n",
              "}\n",
              "\n",
              "#sk-container-id-1 label.sk-toggleable__label-arrow:hover:before {\n",
              "  color: var(--sklearn-color-text);\n",
              "}\n",
              "\n",
              "/* Toggleable content - dropdown */\n",
              "\n",
              "#sk-container-id-1 div.sk-toggleable__content {\n",
              "  max-height: 0;\n",
              "  max-width: 0;\n",
              "  overflow: hidden;\n",
              "  text-align: left;\n",
              "  /* unfitted */\n",
              "  background-color: var(--sklearn-color-unfitted-level-0);\n",
              "}\n",
              "\n",
              "#sk-container-id-1 div.sk-toggleable__content.fitted {\n",
              "  /* fitted */\n",
              "  background-color: var(--sklearn-color-fitted-level-0);\n",
              "}\n",
              "\n",
              "#sk-container-id-1 div.sk-toggleable__content pre {\n",
              "  margin: 0.2em;\n",
              "  border-radius: 0.25em;\n",
              "  color: var(--sklearn-color-text);\n",
              "  /* unfitted */\n",
              "  background-color: var(--sklearn-color-unfitted-level-0);\n",
              "}\n",
              "\n",
              "#sk-container-id-1 div.sk-toggleable__content.fitted pre {\n",
              "  /* unfitted */\n",
              "  background-color: var(--sklearn-color-fitted-level-0);\n",
              "}\n",
              "\n",
              "#sk-container-id-1 input.sk-toggleable__control:checked~div.sk-toggleable__content {\n",
              "  /* Expand drop-down */\n",
              "  max-height: 200px;\n",
              "  max-width: 100%;\n",
              "  overflow: auto;\n",
              "}\n",
              "\n",
              "#sk-container-id-1 input.sk-toggleable__control:checked~label.sk-toggleable__label-arrow:before {\n",
              "  content: \"▾\";\n",
              "}\n",
              "\n",
              "/* Pipeline/ColumnTransformer-specific style */\n",
              "\n",
              "#sk-container-id-1 div.sk-label input.sk-toggleable__control:checked~label.sk-toggleable__label {\n",
              "  color: var(--sklearn-color-text);\n",
              "  background-color: var(--sklearn-color-unfitted-level-2);\n",
              "}\n",
              "\n",
              "#sk-container-id-1 div.sk-label.fitted input.sk-toggleable__control:checked~label.sk-toggleable__label {\n",
              "  background-color: var(--sklearn-color-fitted-level-2);\n",
              "}\n",
              "\n",
              "/* Estimator-specific style */\n",
              "\n",
              "/* Colorize estimator box */\n",
              "#sk-container-id-1 div.sk-estimator input.sk-toggleable__control:checked~label.sk-toggleable__label {\n",
              "  /* unfitted */\n",
              "  background-color: var(--sklearn-color-unfitted-level-2);\n",
              "}\n",
              "\n",
              "#sk-container-id-1 div.sk-estimator.fitted input.sk-toggleable__control:checked~label.sk-toggleable__label {\n",
              "  /* fitted */\n",
              "  background-color: var(--sklearn-color-fitted-level-2);\n",
              "}\n",
              "\n",
              "#sk-container-id-1 div.sk-label label.sk-toggleable__label,\n",
              "#sk-container-id-1 div.sk-label label {\n",
              "  /* The background is the default theme color */\n",
              "  color: var(--sklearn-color-text-on-default-background);\n",
              "}\n",
              "\n",
              "/* On hover, darken the color of the background */\n",
              "#sk-container-id-1 div.sk-label:hover label.sk-toggleable__label {\n",
              "  color: var(--sklearn-color-text);\n",
              "  background-color: var(--sklearn-color-unfitted-level-2);\n",
              "}\n",
              "\n",
              "/* Label box, darken color on hover, fitted */\n",
              "#sk-container-id-1 div.sk-label.fitted:hover label.sk-toggleable__label.fitted {\n",
              "  color: var(--sklearn-color-text);\n",
              "  background-color: var(--sklearn-color-fitted-level-2);\n",
              "}\n",
              "\n",
              "/* Estimator label */\n",
              "\n",
              "#sk-container-id-1 div.sk-label label {\n",
              "  font-family: monospace;\n",
              "  font-weight: bold;\n",
              "  display: inline-block;\n",
              "  line-height: 1.2em;\n",
              "}\n",
              "\n",
              "#sk-container-id-1 div.sk-label-container {\n",
              "  text-align: center;\n",
              "}\n",
              "\n",
              "/* Estimator-specific */\n",
              "#sk-container-id-1 div.sk-estimator {\n",
              "  font-family: monospace;\n",
              "  border: 1px dotted var(--sklearn-color-border-box);\n",
              "  border-radius: 0.25em;\n",
              "  box-sizing: border-box;\n",
              "  margin-bottom: 0.5em;\n",
              "  /* unfitted */\n",
              "  background-color: var(--sklearn-color-unfitted-level-0);\n",
              "}\n",
              "\n",
              "#sk-container-id-1 div.sk-estimator.fitted {\n",
              "  /* fitted */\n",
              "  background-color: var(--sklearn-color-fitted-level-0);\n",
              "}\n",
              "\n",
              "/* on hover */\n",
              "#sk-container-id-1 div.sk-estimator:hover {\n",
              "  /* unfitted */\n",
              "  background-color: var(--sklearn-color-unfitted-level-2);\n",
              "}\n",
              "\n",
              "#sk-container-id-1 div.sk-estimator.fitted:hover {\n",
              "  /* fitted */\n",
              "  background-color: var(--sklearn-color-fitted-level-2);\n",
              "}\n",
              "\n",
              "/* Specification for estimator info (e.g. \"i\" and \"?\") */\n",
              "\n",
              "/* Common style for \"i\" and \"?\" */\n",
              "\n",
              ".sk-estimator-doc-link,\n",
              "a:link.sk-estimator-doc-link,\n",
              "a:visited.sk-estimator-doc-link {\n",
              "  float: right;\n",
              "  font-size: smaller;\n",
              "  line-height: 1em;\n",
              "  font-family: monospace;\n",
              "  background-color: var(--sklearn-color-background);\n",
              "  border-radius: 1em;\n",
              "  height: 1em;\n",
              "  width: 1em;\n",
              "  text-decoration: none !important;\n",
              "  margin-left: 1ex;\n",
              "  /* unfitted */\n",
              "  border: var(--sklearn-color-unfitted-level-1) 1pt solid;\n",
              "  color: var(--sklearn-color-unfitted-level-1);\n",
              "}\n",
              "\n",
              ".sk-estimator-doc-link.fitted,\n",
              "a:link.sk-estimator-doc-link.fitted,\n",
              "a:visited.sk-estimator-doc-link.fitted {\n",
              "  /* fitted */\n",
              "  border: var(--sklearn-color-fitted-level-1) 1pt solid;\n",
              "  color: var(--sklearn-color-fitted-level-1);\n",
              "}\n",
              "\n",
              "/* On hover */\n",
              "div.sk-estimator:hover .sk-estimator-doc-link:hover,\n",
              ".sk-estimator-doc-link:hover,\n",
              "div.sk-label-container:hover .sk-estimator-doc-link:hover,\n",
              ".sk-estimator-doc-link:hover {\n",
              "  /* unfitted */\n",
              "  background-color: var(--sklearn-color-unfitted-level-3);\n",
              "  color: var(--sklearn-color-background);\n",
              "  text-decoration: none;\n",
              "}\n",
              "\n",
              "div.sk-estimator.fitted:hover .sk-estimator-doc-link.fitted:hover,\n",
              ".sk-estimator-doc-link.fitted:hover,\n",
              "div.sk-label-container:hover .sk-estimator-doc-link.fitted:hover,\n",
              ".sk-estimator-doc-link.fitted:hover {\n",
              "  /* fitted */\n",
              "  background-color: var(--sklearn-color-fitted-level-3);\n",
              "  color: var(--sklearn-color-background);\n",
              "  text-decoration: none;\n",
              "}\n",
              "\n",
              "/* Span, style for the box shown on hovering the info icon */\n",
              ".sk-estimator-doc-link span {\n",
              "  display: none;\n",
              "  z-index: 9999;\n",
              "  position: relative;\n",
              "  font-weight: normal;\n",
              "  right: .2ex;\n",
              "  padding: .5ex;\n",
              "  margin: .5ex;\n",
              "  width: min-content;\n",
              "  min-width: 20ex;\n",
              "  max-width: 50ex;\n",
              "  color: var(--sklearn-color-text);\n",
              "  box-shadow: 2pt 2pt 4pt #999;\n",
              "  /* unfitted */\n",
              "  background: var(--sklearn-color-unfitted-level-0);\n",
              "  border: .5pt solid var(--sklearn-color-unfitted-level-3);\n",
              "}\n",
              "\n",
              ".sk-estimator-doc-link.fitted span {\n",
              "  /* fitted */\n",
              "  background: var(--sklearn-color-fitted-level-0);\n",
              "  border: var(--sklearn-color-fitted-level-3);\n",
              "}\n",
              "\n",
              ".sk-estimator-doc-link:hover span {\n",
              "  display: block;\n",
              "}\n",
              "\n",
              "/* \"?\"-specific style due to the `<a>` HTML tag */\n",
              "\n",
              "#sk-container-id-1 a.estimator_doc_link {\n",
              "  float: right;\n",
              "  font-size: 1rem;\n",
              "  line-height: 1em;\n",
              "  font-family: monospace;\n",
              "  background-color: var(--sklearn-color-background);\n",
              "  border-radius: 1rem;\n",
              "  height: 1rem;\n",
              "  width: 1rem;\n",
              "  text-decoration: none;\n",
              "  /* unfitted */\n",
              "  color: var(--sklearn-color-unfitted-level-1);\n",
              "  border: var(--sklearn-color-unfitted-level-1) 1pt solid;\n",
              "}\n",
              "\n",
              "#sk-container-id-1 a.estimator_doc_link.fitted {\n",
              "  /* fitted */\n",
              "  border: var(--sklearn-color-fitted-level-1) 1pt solid;\n",
              "  color: var(--sklearn-color-fitted-level-1);\n",
              "}\n",
              "\n",
              "/* On hover */\n",
              "#sk-container-id-1 a.estimator_doc_link:hover {\n",
              "  /* unfitted */\n",
              "  background-color: var(--sklearn-color-unfitted-level-3);\n",
              "  color: var(--sklearn-color-background);\n",
              "  text-decoration: none;\n",
              "}\n",
              "\n",
              "#sk-container-id-1 a.estimator_doc_link.fitted:hover {\n",
              "  /* fitted */\n",
              "  background-color: var(--sklearn-color-fitted-level-3);\n",
              "}\n",
              "</style><div id=\"sk-container-id-1\" class=\"sk-top-container\"><div class=\"sk-text-repr-fallback\"><pre>KNeighborsClassifier()</pre><b>In a Jupyter environment, please rerun this cell to show the HTML representation or trust the notebook. <br />On GitHub, the HTML representation is unable to render, please try loading this page with nbviewer.org.</b></div><div class=\"sk-container\" hidden><div class=\"sk-item\"><div class=\"sk-estimator fitted sk-toggleable\"><input class=\"sk-toggleable__control sk-hidden--visually\" id=\"sk-estimator-id-1\" type=\"checkbox\" checked><label for=\"sk-estimator-id-1\" class=\"sk-toggleable__label fitted sk-toggleable__label-arrow fitted\">&nbsp;&nbsp;KNeighborsClassifier<a class=\"sk-estimator-doc-link fitted\" rel=\"noreferrer\" target=\"_blank\" href=\"https://scikit-learn.org/1.5/modules/generated/sklearn.neighbors.KNeighborsClassifier.html\">?<span>Documentation for KNeighborsClassifier</span></a><span class=\"sk-estimator-doc-link fitted\">i<span>Fitted</span></span></label><div class=\"sk-toggleable__content fitted\"><pre>KNeighborsClassifier()</pre></div> </div></div></div></div>"
            ]
          },
          "metadata": {},
          "execution_count": 49
        }
      ],
      "source": [
        "model.fit(X_train, y_train) # COMPLETE THIS CODE"
      ]
    },
    {
      "cell_type": "code",
      "execution_count": 50,
      "metadata": {
        "id": "lBki9dH1fJPt",
        "tags": []
      },
      "outputs": [],
      "source": [
        "predictions = model.predict(X_test)# COMPLETE THIS CODE"
      ]
    },
    {
      "cell_type": "markdown",
      "metadata": {
        "id": "GOjuQCV6fJPu"
      },
      "source": [
        "#### **Step #7: Evaluate**\n",
        "\n",
        "Let's evaluate this model and put it to the test! Specifically, use the accuracy score to get a simple overall picture of your model's performance, and the confusion matrix to get a more nuanced view of where the model is performing the best and worst\n"
      ]
    },
    {
      "cell_type": "code",
      "execution_count": 51,
      "metadata": {
        "id": "7iYRgB9yfJPu",
        "tags": [],
        "outputId": "4c5f7ba8-9663-4817-ca70-6ac63f7e3749",
        "colab": {
          "base_uri": "https://localhost:8080/"
        }
      },
      "outputs": [
        {
          "output_type": "stream",
          "name": "stdout",
          "text": [
            "0.6666666666666666\n"
          ]
        }
      ],
      "source": [
        "print(accuracy_score(y_test,predictions)) # COMPLETE THIS CODE"
      ]
    },
    {
      "cell_type": "code",
      "execution_count": 52,
      "metadata": {
        "id": "bF9jaTzyhAjy",
        "tags": [],
        "outputId": "6378e79c-3cd2-4744-fbc9-e1d6aaf76e78",
        "colab": {
          "base_uri": "https://localhost:8080/",
          "height": 547
        }
      },
      "outputs": [
        {
          "output_type": "display_data",
          "data": {
            "text/plain": [
              "<Figure size 640x480 with 2 Axes>"
            ],
            "image/png": "[encoded data removed]"
          },
          "metadata": {}
        }
      ],
      "source": [
        "#cm = confusion_matrix(# COMPLETE THIS CODE\n",
        "#disp = ConfusionMatrixDisplay(# COMPLETE THIS CODE\n",
        "cm = confusion_matrix(y_test, predictions, labels=model.classes_)# COMPLETE THIS CODE\n",
        "disp = ConfusionMatrixDisplay(confusion_matrix=cm, display_labels=model.classes_)\n",
        "disp.plot()\n",
        "\n",
        "plt.xticks(rotation=90)\n",
        "plt.show()"
      ]
    },
    {
      "cell_type": "markdown",
      "metadata": {
        "id": "kGoZURsgmJu1"
      },
      "source": [
        "#### **Step \\#8: Make predictions**\n",
        "\n",
        "\n",
        "Astronomers have heard of your amazing ML model for predicting star types and want you to help them categorize new stars they have observed! For each problem below, use your KNN model to classify the stars based on the data given to you.\n",
        "\n",
        "\n",
        "The stars' `temperature`, `brightness`, `size`, and `color` are as follows:\n",
        "\n",
        "1. `10500`, `107200`, `240`, `6`.\n",
        "\n",
        "2. `10500`, `107200`, `240`, `0`.\n",
        "\n",
        "3. `1900`, `0.0001`, `0.01`, `3`.\n",
        "\n",
        "4. `9000`, `100`, `10`, `3`."
      ]
    },
    {
      "cell_type": "code",
      "execution_count": 53,
      "metadata": {
        "id": "U7b0UAlTQmvz",
        "tags": [],
        "outputId": "b712719b-953e-4a40-a866-ce150b62b4ae",
        "colab": {
          "base_uri": "https://localhost:8080/"
        }
      },
      "outputs": [
        {
          "output_type": "stream",
          "name": "stdout",
          "text": [
            "['hyper giant']\n"
          ]
        }
      ],
      "source": [
        "#new_star=pd.Dataframe(# COMPLETE THIS CODE\n",
        "\n",
        "new_star = pd.DataFrame([[10500, 107200, 240,6]], columns= X_train.columns)\n",
        "new_pred = model.predict(new_star)\n",
        "print(new_pred)"
      ]
    },
    {
      "cell_type": "code",
      "execution_count": 54,
      "metadata": {
        "id": "QH6aPxM3Qpkp",
        "colab": {
          "base_uri": "https://localhost:8080/"
        },
        "outputId": "c0cc82c7-220e-422a-81ba-8eaa31775dec"
      },
      "outputs": [
        {
          "output_type": "stream",
          "name": "stdout",
          "text": [
            "Prediction for Star 2: hyper giant\n"
          ]
        }
      ],
      "source": [
        "# Star 2\n",
        "new_star = pd.DataFrame([[10500, 107200, 240, 0]], columns=X_train.columns)  # Changed color to 0\n",
        "new_pred = model.predict(new_star)\n",
        "print(f\"Prediction for Star 2: {new_pred[0]}\")"
      ]
    },
    {
      "cell_type": "code",
      "execution_count": 55,
      "metadata": {
        "colab": {
          "base_uri": "https://localhost:8080/"
        },
        "id": "pJ8EaSCno5OZ",
        "outputId": "01bd244c-1321-4bb3-a563-c9806a958042"
      },
      "outputs": [
        {
          "output_type": "stream",
          "name": "stdout",
          "text": [
            "Prediction for Star 3: red dwarf\n"
          ]
        }
      ],
      "source": [
        "# Star 3\n",
        "new_star = pd.DataFrame([[1900, 0.0001, 0.01, 3]], columns=X_train.columns)\n",
        "new_pred = model.predict(new_star)\n",
        "print(f\"Prediction for Star 3: {new_pred[0]}\")"
      ]
    },
    {
      "cell_type": "code",
      "execution_count": 56,
      "metadata": {
        "id": "LShnE8d-QpbB",
        "colab": {
          "base_uri": "https://localhost:8080/"
        },
        "outputId": "1731bea0-c819-4441-d5cb-3d814edc2f7c"
      },
      "outputs": [
        {
          "output_type": "stream",
          "name": "stdout",
          "text": [
            "Prediction for Star 4: main sequence\n"
          ]
        }
      ],
      "source": [
        "# Star 4\n",
        "new_star = pd.DataFrame([[9000, 100, 10, 3]], columns=X_train.columns)\n",
        "new_pred = model.predict(new_star)\n",
        "print(f\"Prediction for Star 4: {new_pred[0]}\")"
      ]
    },
    {
      "cell_type": "markdown",
      "metadata": {
        "id": "Ira4xn845Xhb"
      },
      "source": [
        "#### **NOTE**: We encourage you to try working through this section with logistic regression too."
      ]
    },
    {
      "cell_type": "code",
      "source": [],
      "metadata": {
        "id": "t2FpDEsApS1d"
      },
      "execution_count": null,
      "outputs": []
    },
    {
      "cell_type": "code",
      "source": [],
      "metadata": {
        "id": "F7WJCv8ppTP-"
      },
      "execution_count": null,
      "outputs": []
    },
    {
      "cell_type": "markdown",
      "metadata": {
        "id": "hWa31NPJg0wd"
      },
      "source": [
        "---\n",
        "#End of Notebook\n",
        "\n",
        "© 2024 The Coding School, All rights reserved"
      ]
    }
  ],
  "metadata": {
    "colab": {
      "provenance": [],
      "include_colab_link": true
    },
    "kernelspec": {
      "display_name": "Python 3 (ipykernel)",
      "language": "python",
      "name": "python3"
    },
    "language_info": {
      "codemirror_mode": {
        "name": "ipython",
        "version": 3
      },
      "file_extension": ".py",
      "mimetype": "text/x-python",
      "name": "python",
      "nbconvert_exporter": "python",
      "pygments_lexer": "ipython3",
      "version": "3.12.7"
    }
  },
  "nbformat": 4,
  "nbformat_minor": 0
}