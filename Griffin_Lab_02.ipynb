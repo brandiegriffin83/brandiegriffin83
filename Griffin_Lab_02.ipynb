{
  "nbformat": 4,
  "nbformat_minor": 0,
  "metadata": {
    "colab": {
      "provenance": [],
      "authorship_tag": "ABX9TyMU7NJXOhlBhAwrhDRhWp9W",
      "include_colab_link": true
    },
    "kernelspec": {
      "name": "python3",
      "display_name": "Python 3"
    },
    "language_info": {
      "name": "python"
    }
  },
  "cells": [
    {
      "cell_type": "markdown",
      "metadata": {
        "id": "view-in-github",
        "colab_type": "text"
      },
      "source": [
        "<a href=\"https://colab.research.google.com/github/brandiegriffin83/brandiegriffin83/blob/main/Griffin_Lab_02.ipynb\" target=\"_parent\"><img src=\"https://colab.research.google.com/assets/colab-badge.svg\" alt=\"Open In Colab\"/></a>"
      ]
    },
    {
      "cell_type": "code",
      "execution_count": 25,
      "metadata": {
        "colab": {
          "base_uri": "https://localhost:8080/"
        },
        "id": "ue326wYJiQwn",
        "outputId": "80b3ecab-0451-49f4-c8e5-95384c15200e"
      },
      "outputs": [
        {
          "output_type": "stream",
          "name": "stdout",
          "text": [
            "List of Case IDs: ['CASE001', 'CASE002', 'CASE003', 'CASE001']\n",
            "Element at index 1: CASE002\n",
            "Reversed List: ['CASE001', 'CASE003', 'CASE002', 'CASE001']\n",
            "List after appending 'CASE004': ['CASE001', 'CASE002', 'CASE003', 'CASE001', 'CASE004']\n",
            "List after clearing: []\n"
          ]
        }
      ],
      "source": [
        "# Example list of case IDs in law enforcement\n",
        "case_ids = ['CASE001', 'CASE002', 'CASE003', 'CASE001']\n",
        "\n",
        "# Print the list\n",
        "print(\"List of Case IDs:\", case_ids)\n",
        "\n",
        "# Accessing an element at index 1\n",
        "print(\"Element at index 1:\", case_ids[1])\n",
        "\n",
        "# Reversing the list\n",
        "print(\"Reversed List:\", case_ids[::-1])\n",
        "\n",
        "# Adding a new case ID to the list\n",
        "case_ids.append('CASE004')\n",
        "print(\"List after appending 'CASE004':\", case_ids)\n",
        "\n",
        "# Clearing the list\n",
        "case_ids.clear()\n",
        "print(\"List after clearing:\", case_ids)\n"
      ]
    },
    {
      "cell_type": "code",
      "source": [
        "# Example tuple of witness IDs\n",
        "witness_ids = (1001, 1002, 1003, 1001)\n",
        "\n",
        "# Print the tuple\n",
        "print(\"Tuple of Witness IDs:\", witness_ids)\n",
        "\n",
        "# Accessing an element at index 2\n",
        "print(\"Element at index 2:\", witness_ids[2])\n",
        "\n",
        "# Slicing the tuple (first three elements)\n",
        "print(\"Sliced tuple from index 0 to 3:\", witness_ids[:3])\n",
        "\n",
        "# Note: Tuples are immutable, so modifying an element will raise an error\n",
        "# Uncomment the following lines to see the error\n",
        "# witness_ids[2] = 7  # This will raise an error\n"
      ],
      "metadata": {
        "colab": {
          "base_uri": "https://localhost:8080/"
        },
        "id": "KN0RsdOEje3B",
        "outputId": "f8d344f9-1fe1-40b4-8833-89b996029e0c"
      },
      "execution_count": 26,
      "outputs": [
        {
          "output_type": "stream",
          "name": "stdout",
          "text": [
            "Tuple of Witness IDs: (1001, 1002, 1003, 1001)\n",
            "Element at index 2: 1003\n",
            "Sliced tuple from index 0 to 3: (1001, 1002, 1003)\n"
          ]
        }
      ]
    },
    {
      "cell_type": "code",
      "source": [
        "# Example set of criminal record IDs\n",
        "criminal_ids = {201, 202, 203, 201}\n",
        "\n",
        "# Print the set\n",
        "print(\"Set of Criminal Record IDs:\", criminal_ids)\n",
        "\n",
        "# Adding a new criminal record to the set\n",
        "criminal_ids.add(204)\n",
        "print(\"Set after adding '204':\", criminal_ids)\n",
        "\n",
        "# Removing an element from the set\n",
        "criminal_ids.remove(202)\n",
        "print(\"Set after removing '202':\", criminal_ids)\n"
      ],
      "metadata": {
        "colab": {
          "base_uri": "https://localhost:8080/"
        },
        "id": "ZQtqhJWGjySn",
        "outputId": "100b09ab-1bc9-46cb-910c-b1710ee500d5"
      },
      "execution_count": 27,
      "outputs": [
        {
          "output_type": "stream",
          "name": "stdout",
          "text": [
            "Set of Criminal Record IDs: {201, 202, 203}\n",
            "Set after adding '204': {201, 202, 203, 204}\n",
            "Set after removing '202': {201, 203, 204}\n"
          ]
        }
      ]
    },
    {
      "cell_type": "code",
      "source": [
        "# Example dictionary with suspect details\n",
        "suspects = {'SUS001': 'John Doe', 'SUS002': 'Jane Smith', 'SUS003': 'Michael Lee'}\n",
        "\n",
        "# Print the dictionary\n",
        "print(\"Suspect Dictionary:\", suspects)\n",
        "\n",
        "# Accessing a suspect's name\n",
        "print(\"Name of SUS001:\", suspects['SUS001'])\n",
        "\n",
        "# Adding a new suspect\n",
        "suspects['SUS004'] = 'Robert Black'\n",
        "print(\"Dictionary after adding SUS004:\", suspects)\n",
        "\n",
        "# Updating a suspect's name\n",
        "suspects['SUS002'] = 'Jessica Green'\n",
        "print(\"Dictionary after updating SUS002:\", suspects)\n",
        "\n",
        "# Removing a suspect\n",
        "del suspects['SUS003']\n",
        "print(\"Dictionary after removing SUS003:\", suspects)\n",
        "\n",
        "# Accessing all keys in the dictionary\n",
        "print(\"Keys in the Suspect Dictionary:\", suspects.keys())\n",
        "\n",
        "# Accessing all values in the dictionary\n",
        "print(\"Values in the Suspect Dictionary:\", suspects.values())\n",
        "\n",
        "# Checking if a specific suspect exists\n",
        "print(\"Is SUS001 in the dictionary?\", 'SUS001' in suspects)\n",
        "\n",
        "# Updating multiple key-value pairs at once\n",
        "suspects.update({'SUS005': 'Tom Brown', 'SUS006': 'Sarah White'})\n",
        "print(\"Dictionary after updating with new suspects:\", suspects)\n"
      ],
      "metadata": {
        "colab": {
          "base_uri": "https://localhost:8080/"
        },
        "id": "8X-KPec5j0Rq",
        "outputId": "aba6d469-ca74-421e-a470-7effb2bd6f36"
      },
      "execution_count": 28,
      "outputs": [
        {
          "output_type": "stream",
          "name": "stdout",
          "text": [
            "Suspect Dictionary: {'SUS001': 'John Doe', 'SUS002': 'Jane Smith', 'SUS003': 'Michael Lee'}\n",
            "Name of SUS001: John Doe\n",
            "Dictionary after adding SUS004: {'SUS001': 'John Doe', 'SUS002': 'Jane Smith', 'SUS003': 'Michael Lee', 'SUS004': 'Robert Black'}\n",
            "Dictionary after updating SUS002: {'SUS001': 'John Doe', 'SUS002': 'Jessica Green', 'SUS003': 'Michael Lee', 'SUS004': 'Robert Black'}\n",
            "Dictionary after removing SUS003: {'SUS001': 'John Doe', 'SUS002': 'Jessica Green', 'SUS004': 'Robert Black'}\n",
            "Keys in the Suspect Dictionary: dict_keys(['SUS001', 'SUS002', 'SUS004'])\n",
            "Values in the Suspect Dictionary: dict_values(['John Doe', 'Jessica Green', 'Robert Black'])\n",
            "Is SUS001 in the dictionary? True\n",
            "Dictionary after updating with new suspects: {'SUS001': 'John Doe', 'SUS002': 'Jessica Green', 'SUS004': 'Robert Black', 'SUS005': 'Tom Brown', 'SUS006': 'Sarah White'}\n"
          ]
        }
      ]
    },
    {
      "cell_type": "code",
      "source": [
        "```text\n",
        "Here are ten key points I learned:\n",
        "\n",
        "1. Lists: Lists are ordered collections that can have duplicate items, and they're changeable. I found out I can add, remove, and modify elements within a list.\n",
        "\n",
        "2. Tuples: Tuples are like lists but are unchangeable. Once you create a tuple, you can't modify its elements. They're also ordered and can have duplicates.\n",
        "\n",
        "3. Sets: Sets are unordered collections of unique elements, so they automatically get rid of duplicates. They're changeable when it comes to adding or removing items.\n",
        "\n",
        "4. Dictionaries: Dictionaries store data in key-value pairs. They're unordered, changeable, and keys have to be unique. I can access values by using their corresponding keys.\n",
        "\n",
        "5. Ordered vs. Unordered Collections: Knowing the difference between ordered (lists and tuples) and unordered (sets and dictionaries) collections is important because it affects how you access and work with the data.\n",
        "\n",
        "6. Mutability: It's important to recognize which data structures are mutable (lists, sets, dictionaries) and which are immutable (tuples) because it helps me decide how and when to use them.\n",
        "\n",
        "7. Accessing Elements: I learned how to access elements in lists and tuples using their index positions, and in dictionaries using keys. Also, slicing lets me get subsets of lists and tuples.\n",
        "\n",
        "8. Duplicates in Data Structures: Lists and tuples allow duplicate elements, but sets and dictionary keys don't. This is crucial when I need to make sure all elements are unique.\n",
        "\n",
        "9. Modifying Data Structures: I got to practice adding, updating, and deleting elements in mutable data structures, using methods like append(), remove(), and update().\n",
        "\n",
        "10. Combining Data Structures: I learned how to combine data structures, like updating one dictionary with another and nesting data structures within each other for more complex data management.\n"
      ],
      "metadata": {
        "colab": {
          "base_uri": "https://localhost:8080/",
          "height": 110
        },
        "id": "wd0zBvlNxM8R",
        "outputId": "5ffa8d35-6f8a-4a1c-8fe7-c3b64a662853"
      },
      "execution_count": 30,
      "outputs": [
        {
          "output_type": "error",
          "ename": "SyntaxError",
          "evalue": "unterminated string literal (detected at line 4) (<ipython-input-30-40a9149ed97c>, line 4)",
          "traceback": [
            "\u001b[0;36m  File \u001b[0;32m\"<ipython-input-30-40a9149ed97c>\"\u001b[0;36m, line \u001b[0;32m4\u001b[0m\n\u001b[0;31m    1. Lists: Lists are ordered collections that can have duplicate items, and they're changeable. I found out I can add, remove, and modify elements within a list.\u001b[0m\n\u001b[0m                                                                                   ^\u001b[0m\n\u001b[0;31mSyntaxError\u001b[0m\u001b[0;31m:\u001b[0m unterminated string literal (detected at line 4)\n"
          ]
        }
      ]
    }
  ]
}